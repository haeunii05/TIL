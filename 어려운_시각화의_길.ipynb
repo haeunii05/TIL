{
  "nbformat": 4,
  "nbformat_minor": 0,
  "metadata": {
    "colab": {
      "name": "어려운 시각화의 길.ipynb",
      "provenance": [],
      "collapsed_sections": []
    },
    "kernelspec": {
      "display_name": "Python 3",
      "language": "python",
      "name": "python3"
    },
    "language_info": {
      "codemirror_mode": {
        "name": "ipython",
        "version": 3
      },
      "file_extension": ".py",
      "mimetype": "text/x-python",
      "name": "python",
      "nbconvert_exporter": "python",
      "pygments_lexer": "ipython3",
      "version": "3.6.10"
    }
  },
  "cells": [
    {
      "cell_type": "code",
      "metadata": {
        "colab_type": "code",
        "id": "nu6vKRrVHQVx",
        "colab": {}
      },
      "source": [
        "import matplotlib as mpl\n",
        "import matplotlib.pyplot as plt\n",
        "import pandas as pd\n",
        "import numpy as np\n",
        "import datetime\n",
        "import plotly.express as px"
      ],
      "execution_count": null,
      "outputs": []
    },
    {
      "cell_type": "code",
      "metadata": {
        "id": "vILpVUGKZQti",
        "colab_type": "code",
        "colab": {
          "base_uri": "https://localhost:8080/",
          "height": 633
        },
        "outputId": "30d1987e-fe52-4361-f6e3-5be86805ecc8"
      },
      "source": [
        "!sudo apt-get install -y fonts-nanum\n",
        "!sudo fc-cache -fv\n",
        "!rm ~/.cache/matplotlib -rf"
      ],
      "execution_count": null,
      "outputs": [
        {
          "output_type": "stream",
          "text": [
            "Reading package lists... Done\n",
            "Building dependency tree       \n",
            "Reading state information... Done\n",
            "The following NEW packages will be installed:\n",
            "  fonts-nanum\n",
            "0 upgraded, 1 newly installed, 0 to remove and 11 not upgraded.\n",
            "Need to get 9,604 kB of archives.\n",
            "After this operation, 29.5 MB of additional disk space will be used.\n",
            "Get:1 http://archive.ubuntu.com/ubuntu bionic/universe amd64 fonts-nanum all 20170925-1 [9,604 kB]\n",
            "Fetched 9,604 kB in 0s (48.5 MB/s)\n",
            "debconf: unable to initialize frontend: Dialog\n",
            "debconf: (No usable dialog-like program is installed, so the dialog based frontend cannot be used. at /usr/share/perl5/Debconf/FrontEnd/Dialog.pm line 76, <> line 1.)\n",
            "debconf: falling back to frontend: Readline\n",
            "debconf: unable to initialize frontend: Readline\n",
            "debconf: (This frontend requires a controlling tty.)\n",
            "debconf: falling back to frontend: Teletype\n",
            "dpkg-preconfigure: unable to re-open stdin: \n",
            "Selecting previously unselected package fonts-nanum.\n",
            "(Reading database ... 144676 files and directories currently installed.)\n",
            "Preparing to unpack .../fonts-nanum_20170925-1_all.deb ...\n",
            "Unpacking fonts-nanum (20170925-1) ...\n",
            "Setting up fonts-nanum (20170925-1) ...\n",
            "Processing triggers for fontconfig (2.12.6-0ubuntu2) ...\n",
            "/usr/share/fonts: caching, new cache contents: 0 fonts, 1 dirs\n",
            "/usr/share/fonts/truetype: caching, new cache contents: 0 fonts, 3 dirs\n",
            "/usr/share/fonts/truetype/humor-sans: caching, new cache contents: 1 fonts, 0 dirs\n",
            "/usr/share/fonts/truetype/liberation: caching, new cache contents: 16 fonts, 0 dirs\n",
            "/usr/share/fonts/truetype/nanum: caching, new cache contents: 10 fonts, 0 dirs\n",
            "/usr/local/share/fonts: caching, new cache contents: 0 fonts, 0 dirs\n",
            "/root/.local/share/fonts: skipping, no such directory\n",
            "/root/.fonts: skipping, no such directory\n",
            "/var/cache/fontconfig: cleaning cache directory\n",
            "/root/.cache/fontconfig: not cleaning non-existent cache directory\n",
            "/root/.fontconfig: not cleaning non-existent cache directory\n",
            "fc-cache: succeeded\n"
          ],
          "name": "stdout"
        }
      ]
    },
    {
      "cell_type": "code",
      "metadata": {
        "id": "hbowTHSi0YOP",
        "colab_type": "code",
        "colab": {
          "base_uri": "https://localhost:8080/",
          "height": 34
        },
        "outputId": "2dd8d155-e7b6-4431-94a3-6eeec20a3d4e"
      },
      "source": [
        "from google.colab import drive\n",
        "drive.mount('/content/gdrive')\n"
      ],
      "execution_count": null,
      "outputs": [
        {
          "output_type": "stream",
          "text": [
            "Drive already mounted at /content/gdrive; to attempt to forcibly remount, call drive.mount(\"/content/gdrive\", force_remount=True).\n"
          ],
          "name": "stdout"
        }
      ]
    },
    {
      "cell_type": "code",
      "metadata": {
        "id": "XhhLkLQW0h7z",
        "colab_type": "code",
        "colab": {}
      },
      "source": [
        "# colab\n",
        "\n",
        "resident = pd.read_csv(\"/content/gdrive/My Drive/project/CARD_SPENDING_RESIDENT.txt\",sep='\\t',encoding='CP949')\n",
        "foreigner = pd.read_csv(\"/content/gdrive/My Drive/project/CARD_SPENDING_FOREIGNER.txt\",sep='\\t',encoding='CP949')"
      ],
      "execution_count": null,
      "outputs": []
    },
    {
      "cell_type": "code",
      "metadata": {
        "colab_type": "code",
        "id": "412F5-oFHQWE",
        "colab": {}
      },
      "source": [
        "# jupyter\n",
        "resident = pd.read_csv(\"CARD_SPENDING_RESIDENT.txt\",sep='\\t',encoding='CP949')\n",
        "foreigner = pd.read_csv(\"CARD_SPENDING_FOREIGNER.txt\",sep='\\t',encoding='CP949')"
      ],
      "execution_count": null,
      "outputs": []
    },
    {
      "cell_type": "code",
      "metadata": {
        "id": "8IBmRPoDd6vq",
        "colab_type": "code",
        "colab": {}
      },
      "source": [
        "# 연령별 소비데이터 분석 및 시각화\n",
        "dong = pd.read_excel(\"/content/gdrive/My Drive/BigCon_BiKong/Data(given)/02_카드매출데이터(신한카드)_하은/02_혁신아이디어분야_카드소비데이터(신한카드)_데이터정의서.xlsx\",encoding='cp494',sheet_name='(참고) 행정동코드', skiprows=1,skipcols=1)\n",
        "business = pd.read_excel(\"/content/gdrive/My Drive/BigCon_BiKong/Data(given)/02_카드매출데이터(신한카드)_하은/02_혁신아이디어분야_카드소비데이터(신한카드)_데이터정의서.xlsx\",encoding='cp494',sheet_name='(참고) 업종코드', skiprows=1,skipcols=1)\n",
        "\n",
        "dong_cd = dong[['구코드', '행정동코드', '구명', '행정동명']]\n",
        "dong_cd2=dong_cd.set_index('구코드')"
      ],
      "execution_count": null,
      "outputs": []
    },
    {
      "cell_type": "markdown",
      "metadata": {
        "colab_type": "text",
        "id": "-yy3LmrVHQWM"
      },
      "source": [
        "### resident column\n",
        "- STD_DD : 기준일자\n",
        "- GU_CD : 구코드\n",
        "- DONG_CD : 행정동코드\n",
        "- MCT_CAT_CD : 업종코드\n",
        "- SEX_CD : 성별코드\n",
        "- AGE_CD : 나이코드\n",
        "- USE_CNT : 이용건수\n",
        "- USE_AMT : 이용금액 (천원)"
      ]
    },
    {
      "cell_type": "markdown",
      "metadata": {
        "colab_type": "text",
        "id": "512WcTIEHQX5"
      },
      "source": [
        "- 140 : 중구(서울)\n",
        "- 350 : 노원구(서울)\n",
        "- 260 : 수성구(대구)\n",
        "- 110 : 중구(대구)"
      ]
    },
    {
      "cell_type": "code",
      "metadata": {
        "colab_type": "code",
        "id": "cVfu9pFPHQX6",
        "colab": {
          "base_uri": "https://localhost:8080/",
          "height": 402
        },
        "outputId": "6cbc82cf-eefc-4676-c4a5-03eb866fd1c1"
      },
      "source": [
        "dong_cd"
      ],
      "execution_count": null,
      "outputs": [
        {
          "output_type": "execute_result",
          "data": {
            "text/html": [
              "<div>\n",
              "<style scoped>\n",
              "    .dataframe tbody tr th:only-of-type {\n",
              "        vertical-align: middle;\n",
              "    }\n",
              "\n",
              "    .dataframe tbody tr th {\n",
              "        vertical-align: top;\n",
              "    }\n",
              "\n",
              "    .dataframe thead th {\n",
              "        text-align: right;\n",
              "    }\n",
              "</style>\n",
              "<table border=\"1\" class=\"dataframe\">\n",
              "  <thead>\n",
              "    <tr style=\"text-align: right;\">\n",
              "      <th></th>\n",
              "      <th>구코드</th>\n",
              "      <th>행정동코드</th>\n",
              "      <th>구명</th>\n",
              "      <th>행정동명</th>\n",
              "    </tr>\n",
              "  </thead>\n",
              "  <tbody>\n",
              "    <tr>\n",
              "      <th>0</th>\n",
              "      <td>140</td>\n",
              "      <td>520</td>\n",
              "      <td>서울 중구</td>\n",
              "      <td>소공동</td>\n",
              "    </tr>\n",
              "    <tr>\n",
              "      <th>1</th>\n",
              "      <td>140</td>\n",
              "      <td>540</td>\n",
              "      <td>서울 중구</td>\n",
              "      <td>회현동</td>\n",
              "    </tr>\n",
              "    <tr>\n",
              "      <th>2</th>\n",
              "      <td>140</td>\n",
              "      <td>550</td>\n",
              "      <td>서울 중구</td>\n",
              "      <td>명동</td>\n",
              "    </tr>\n",
              "    <tr>\n",
              "      <th>3</th>\n",
              "      <td>140</td>\n",
              "      <td>570</td>\n",
              "      <td>서울 중구</td>\n",
              "      <td>필동</td>\n",
              "    </tr>\n",
              "    <tr>\n",
              "      <th>4</th>\n",
              "      <td>140</td>\n",
              "      <td>580</td>\n",
              "      <td>서울 중구</td>\n",
              "      <td>장충동</td>\n",
              "    </tr>\n",
              "    <tr>\n",
              "      <th>...</th>\n",
              "      <td>...</td>\n",
              "      <td>...</td>\n",
              "      <td>...</td>\n",
              "      <td>...</td>\n",
              "    </tr>\n",
              "    <tr>\n",
              "      <th>64</th>\n",
              "      <td>110</td>\n",
              "      <td>650</td>\n",
              "      <td>대구 중구</td>\n",
              "      <td>남산2동</td>\n",
              "    </tr>\n",
              "    <tr>\n",
              "      <th>65</th>\n",
              "      <td>110</td>\n",
              "      <td>660</td>\n",
              "      <td>대구 중구</td>\n",
              "      <td>남산3동</td>\n",
              "    </tr>\n",
              "    <tr>\n",
              "      <th>66</th>\n",
              "      <td>110</td>\n",
              "      <td>670</td>\n",
              "      <td>대구 중구</td>\n",
              "      <td>남산4동</td>\n",
              "    </tr>\n",
              "    <tr>\n",
              "      <th>67</th>\n",
              "      <td>110</td>\n",
              "      <td>680</td>\n",
              "      <td>대구 중구</td>\n",
              "      <td>대봉1동</td>\n",
              "    </tr>\n",
              "    <tr>\n",
              "      <th>68</th>\n",
              "      <td>110</td>\n",
              "      <td>690</td>\n",
              "      <td>대구 중구</td>\n",
              "      <td>대봉2동</td>\n",
              "    </tr>\n",
              "  </tbody>\n",
              "</table>\n",
              "<p>69 rows × 4 columns</p>\n",
              "</div>"
            ],
            "text/plain": [
              "    구코드  행정동코드     구명  행정동명\n",
              "0   140    520  서울 중구   소공동\n",
              "1   140    540  서울 중구   회현동\n",
              "2   140    550  서울 중구    명동\n",
              "3   140    570  서울 중구    필동\n",
              "4   140    580  서울 중구   장충동\n",
              "..  ...    ...    ...   ...\n",
              "64  110    650  대구 중구  남산2동\n",
              "65  110    660  대구 중구  남산3동\n",
              "66  110    670  대구 중구  남산4동\n",
              "67  110    680  대구 중구  대봉1동\n",
              "68  110    690  대구 중구  대봉2동\n",
              "\n",
              "[69 rows x 4 columns]"
            ]
          },
          "metadata": {
            "tags": []
          },
          "execution_count": 88
        }
      ]
    },
    {
      "cell_type": "code",
      "metadata": {
        "colab_type": "code",
        "id": "nhe8qlzaHQZS",
        "colab": {
          "base_uri": "https://localhost:8080/",
          "height": 402
        },
        "outputId": "3ab0bd6d-4da4-4cd6-a94a-86cb6ab30cf5"
      },
      "source": [
        "# 연령/업종/구 별 이용대금 합계 grouping - 내국인\n",
        "resident_group = resident.groupby(['AGE_CD','MCT_CAT_CD','GU_CD']).sum().reset_index()\n",
        "resident_group "
      ],
      "execution_count": null,
      "outputs": [
        {
          "output_type": "execute_result",
          "data": {
            "text/html": [
              "<div>\n",
              "<style scoped>\n",
              "    .dataframe tbody tr th:only-of-type {\n",
              "        vertical-align: middle;\n",
              "    }\n",
              "\n",
              "    .dataframe tbody tr th {\n",
              "        vertical-align: top;\n",
              "    }\n",
              "\n",
              "    .dataframe thead th {\n",
              "        text-align: right;\n",
              "    }\n",
              "</style>\n",
              "<table border=\"1\" class=\"dataframe\">\n",
              "  <thead>\n",
              "    <tr style=\"text-align: right;\">\n",
              "      <th></th>\n",
              "      <th>AGE_CD</th>\n",
              "      <th>MCT_CAT_CD</th>\n",
              "      <th>GU_CD</th>\n",
              "      <th>USE_CNT</th>\n",
              "      <th>USE_AMT</th>\n",
              "    </tr>\n",
              "  </thead>\n",
              "  <tbody>\n",
              "    <tr>\n",
              "      <th>0</th>\n",
              "      <td>20</td>\n",
              "      <td>10</td>\n",
              "      <td>110</td>\n",
              "      <td>10502</td>\n",
              "      <td>432494</td>\n",
              "    </tr>\n",
              "    <tr>\n",
              "      <th>1</th>\n",
              "      <td>20</td>\n",
              "      <td>10</td>\n",
              "      <td>140</td>\n",
              "      <td>23306</td>\n",
              "      <td>1617073</td>\n",
              "    </tr>\n",
              "    <tr>\n",
              "      <th>2</th>\n",
              "      <td>20</td>\n",
              "      <td>10</td>\n",
              "      <td>260</td>\n",
              "      <td>6505</td>\n",
              "      <td>343854</td>\n",
              "    </tr>\n",
              "    <tr>\n",
              "      <th>3</th>\n",
              "      <td>20</td>\n",
              "      <td>10</td>\n",
              "      <td>350</td>\n",
              "      <td>17562</td>\n",
              "      <td>650352</td>\n",
              "    </tr>\n",
              "    <tr>\n",
              "      <th>4</th>\n",
              "      <td>20</td>\n",
              "      <td>20</td>\n",
              "      <td>110</td>\n",
              "      <td>36353</td>\n",
              "      <td>2100648</td>\n",
              "    </tr>\n",
              "    <tr>\n",
              "      <th>...</th>\n",
              "      <td>...</td>\n",
              "      <td>...</td>\n",
              "      <td>...</td>\n",
              "      <td>...</td>\n",
              "      <td>...</td>\n",
              "    </tr>\n",
              "    <tr>\n",
              "      <th>915</th>\n",
              "      <td>65</td>\n",
              "      <td>81</td>\n",
              "      <td>350</td>\n",
              "      <td>249024</td>\n",
              "      <td>5232315</td>\n",
              "    </tr>\n",
              "    <tr>\n",
              "      <th>916</th>\n",
              "      <td>65</td>\n",
              "      <td>92</td>\n",
              "      <td>110</td>\n",
              "      <td>1263</td>\n",
              "      <td>83625</td>\n",
              "    </tr>\n",
              "    <tr>\n",
              "      <th>917</th>\n",
              "      <td>65</td>\n",
              "      <td>92</td>\n",
              "      <td>140</td>\n",
              "      <td>3830</td>\n",
              "      <td>218679</td>\n",
              "    </tr>\n",
              "    <tr>\n",
              "      <th>918</th>\n",
              "      <td>65</td>\n",
              "      <td>92</td>\n",
              "      <td>260</td>\n",
              "      <td>8310</td>\n",
              "      <td>341285</td>\n",
              "    </tr>\n",
              "    <tr>\n",
              "      <th>919</th>\n",
              "      <td>65</td>\n",
              "      <td>92</td>\n",
              "      <td>350</td>\n",
              "      <td>9831</td>\n",
              "      <td>399643</td>\n",
              "    </tr>\n",
              "  </tbody>\n",
              "</table>\n",
              "<p>920 rows × 5 columns</p>\n",
              "</div>"
            ],
            "text/plain": [
              "     AGE_CD MCT_CAT_CD GU_CD  USE_CNT  USE_AMT\n",
              "0        20         10   110    10502   432494\n",
              "1        20         10   140    23306  1617073\n",
              "2        20         10   260     6505   343854\n",
              "3        20         10   350    17562   650352\n",
              "4        20         20   110    36353  2100648\n",
              "..      ...        ...   ...      ...      ...\n",
              "915      65         81   350   249024  5232315\n",
              "916      65         92   110     1263    83625\n",
              "917      65         92   140     3830   218679\n",
              "918      65         92   260     8310   341285\n",
              "919      65         92   350     9831   399643\n",
              "\n",
              "[920 rows x 5 columns]"
            ]
          },
          "metadata": {
            "tags": []
          },
          "execution_count": 44
        }
      ]
    },
    {
      "cell_type": "code",
      "metadata": {
        "id": "f_hL7VgS0WBL",
        "colab_type": "code",
        "colab": {
          "base_uri": "https://localhost:8080/",
          "height": 107
        },
        "outputId": "c2c0ec0c-3135-40c4-c310-24ba0ecd3f1d"
      },
      "source": [
        "import seaborn as sns"
      ],
      "execution_count": null,
      "outputs": [
        {
          "output_type": "stream",
          "text": [
            "/usr/local/lib/python3.6/dist-packages/statsmodels/tools/_testing.py:19: FutureWarning:\n",
            "\n",
            "pandas.util.testing is deprecated. Use the functions in the public API at pandas.testing instead.\n",
            "\n"
          ],
          "name": "stderr"
        }
      ]
    },
    {
      "cell_type": "code",
      "metadata": {
        "id": "p-qnbrhD0WBT",
        "colab_type": "code",
        "colab": {
          "base_uri": "https://localhost:8080/",
          "height": 280
        },
        "outputId": "697295b8-0196-44a6-dbe3-ac40c8c5e9e0"
      },
      "source": [
        "# 업종별 2019/2020 금액 비교\n",
        "p = sns.barplot(data=resident, x='MCT_CAT_CD',y='USE_AMT', hue=\"year\")\n"
      ],
      "execution_count": null,
      "outputs": [
        {
          "output_type": "display_data",
          "data": {
            "image/png": "[encoded data removed]",
            "text/plain": [
              "<Figure size 432x288 with 1 Axes>"
            ]
          },
          "metadata": {
            "tags": [],
            "needs_background": "light"
          }
        }
      ]
    },
    {
      "cell_type": "code",
      "metadata": {
        "colab_type": "code",
        "id": "RBS2iYJxHQZy",
        "colab": {}
      },
      "source": [
        "import plotly.offline as pyo\n",
        "import plotly.graph_objs as go\n"
      ],
      "execution_count": null,
      "outputs": []
    },
    {
      "cell_type": "code",
      "metadata": {
        "id": "PGiBVyBq0WB_",
        "colab_type": "code",
        "colab": {}
      },
      "source": [
        "# 내국인/외국인 연도별로 자르기\n",
        "foreigner_2020 = foreigner[foreigner['year']=='2020']\n",
        "foreigner_2019 = foreigner[foreigner['year']=='2019']\n",
        "resident_2019 = resident[resident['year']=='2019']\n",
        "resident_2020 = resident[resident['year']=='2020']"
      ],
      "execution_count": null,
      "outputs": []
    },
    {
      "cell_type": "markdown",
      "metadata": {
        "id": "xXd9kR5U_94e",
        "colab_type": "text"
      },
      "source": [
        "### 연도별 이용대금 비교"
      ]
    },
    {
      "cell_type": "code",
      "metadata": {
        "id": "w8jrd8Wl0WCN",
        "colab_type": "code",
        "colab": {
          "base_uri": "https://localhost:8080/",
          "height": 431
        },
        "outputId": "4a0eb729-a2ae-4b09-d7b8-0399ff441682"
      },
      "source": [
        "# 업종별/나이별 2019 이용대금\n",
        "a = resident_2019.groupby(['업종','AGE_CD']).sum()\n",
        "a.rename(columns={'USE_CNT': '이용건수19', 'USE_AMT': '이용금액19'},inplace=True)\n",
        "a"
      ],
      "execution_count": null,
      "outputs": [
        {
          "output_type": "execute_result",
          "data": {
            "text/html": [
              "<div>\n",
              "<style scoped>\n",
              "    .dataframe tbody tr th:only-of-type {\n",
              "        vertical-align: middle;\n",
              "    }\n",
              "\n",
              "    .dataframe tbody tr th {\n",
              "        vertical-align: top;\n",
              "    }\n",
              "\n",
              "    .dataframe thead th {\n",
              "        text-align: right;\n",
              "    }\n",
              "</style>\n",
              "<table border=\"1\" class=\"dataframe\">\n",
              "  <thead>\n",
              "    <tr style=\"text-align: right;\">\n",
              "      <th></th>\n",
              "      <th></th>\n",
              "      <th>이용건수19</th>\n",
              "      <th>이용금액19</th>\n",
              "    </tr>\n",
              "    <tr>\n",
              "      <th>업종</th>\n",
              "      <th>AGE_CD</th>\n",
              "      <th></th>\n",
              "      <th></th>\n",
              "    </tr>\n",
              "  </thead>\n",
              "  <tbody>\n",
              "    <tr>\n",
              "      <th rowspan=\"5\" valign=\"top\">가구</th>\n",
              "      <th>20</th>\n",
              "      <td>553</td>\n",
              "      <td>41055</td>\n",
              "    </tr>\n",
              "    <tr>\n",
              "      <th>25</th>\n",
              "      <td>1558</td>\n",
              "      <td>266604</td>\n",
              "    </tr>\n",
              "    <tr>\n",
              "      <th>30</th>\n",
              "      <td>1704</td>\n",
              "      <td>652525</td>\n",
              "    </tr>\n",
              "    <tr>\n",
              "      <th>35</th>\n",
              "      <td>1771</td>\n",
              "      <td>821415</td>\n",
              "    </tr>\n",
              "    <tr>\n",
              "      <th>40</th>\n",
              "      <td>2259</td>\n",
              "      <td>1014373</td>\n",
              "    </tr>\n",
              "    <tr>\n",
              "      <th>...</th>\n",
              "      <th>...</th>\n",
              "      <td>...</td>\n",
              "      <td>...</td>\n",
              "    </tr>\n",
              "    <tr>\n",
              "      <th rowspan=\"5\" valign=\"top\">직물</th>\n",
              "      <th>45</th>\n",
              "      <td>7289</td>\n",
              "      <td>1042532</td>\n",
              "    </tr>\n",
              "    <tr>\n",
              "      <th>50</th>\n",
              "      <td>8155</td>\n",
              "      <td>1305821</td>\n",
              "    </tr>\n",
              "    <tr>\n",
              "      <th>55</th>\n",
              "      <td>8468</td>\n",
              "      <td>1717445</td>\n",
              "    </tr>\n",
              "    <tr>\n",
              "      <th>60</th>\n",
              "      <td>6947</td>\n",
              "      <td>965946</td>\n",
              "    </tr>\n",
              "    <tr>\n",
              "      <th>65</th>\n",
              "      <td>8610</td>\n",
              "      <td>1311060</td>\n",
              "    </tr>\n",
              "  </tbody>\n",
              "</table>\n",
              "<p>230 rows × 2 columns</p>\n",
              "</div>"
            ],
            "text/plain": [
              "           이용건수19   이용금액19\n",
              "업종 AGE_CD                 \n",
              "가구 20         553    41055\n",
              "   25        1558   266604\n",
              "   30        1704   652525\n",
              "   35        1771   821415\n",
              "   40        2259  1014373\n",
              "...           ...      ...\n",
              "직물 45        7289  1042532\n",
              "   50        8155  1305821\n",
              "   55        8468  1717445\n",
              "   60        6947   965946\n",
              "   65        8610  1311060\n",
              "\n",
              "[230 rows x 2 columns]"
            ]
          },
          "metadata": {
            "tags": []
          },
          "execution_count": 81
        }
      ]
    },
    {
      "cell_type": "code",
      "metadata": {
        "id": "y_TnPN9v0WCZ",
        "colab_type": "code",
        "colab": {
          "base_uri": "https://localhost:8080/",
          "height": 431
        },
        "outputId": "f45454aa-3c1d-4fde-86f6-f11d53e2bc87"
      },
      "source": [
        "# 업종별/나이별 2020 이용대금\n",
        "b = resident_2020.groupby(['업종','AGE_CD']).sum()\n",
        "b.rename(columns={'USE_CNT': '이용건수20', 'USE_AMT': '이용금액20'},inplace=True)\n",
        "b"
      ],
      "execution_count": null,
      "outputs": [
        {
          "output_type": "execute_result",
          "data": {
            "text/html": [
              "<div>\n",
              "<style scoped>\n",
              "    .dataframe tbody tr th:only-of-type {\n",
              "        vertical-align: middle;\n",
              "    }\n",
              "\n",
              "    .dataframe tbody tr th {\n",
              "        vertical-align: top;\n",
              "    }\n",
              "\n",
              "    .dataframe thead th {\n",
              "        text-align: right;\n",
              "    }\n",
              "</style>\n",
              "<table border=\"1\" class=\"dataframe\">\n",
              "  <thead>\n",
              "    <tr style=\"text-align: right;\">\n",
              "      <th></th>\n",
              "      <th></th>\n",
              "      <th>이용건수20</th>\n",
              "      <th>이용금액20</th>\n",
              "    </tr>\n",
              "    <tr>\n",
              "      <th>업종</th>\n",
              "      <th>AGE_CD</th>\n",
              "      <th></th>\n",
              "      <th></th>\n",
              "    </tr>\n",
              "  </thead>\n",
              "  <tbody>\n",
              "    <tr>\n",
              "      <th rowspan=\"5\" valign=\"top\">가구</th>\n",
              "      <th>20</th>\n",
              "      <td>240</td>\n",
              "      <td>33340</td>\n",
              "    </tr>\n",
              "    <tr>\n",
              "      <th>25</th>\n",
              "      <td>1156</td>\n",
              "      <td>333598</td>\n",
              "    </tr>\n",
              "    <tr>\n",
              "      <th>30</th>\n",
              "      <td>1431</td>\n",
              "      <td>872445</td>\n",
              "    </tr>\n",
              "    <tr>\n",
              "      <th>35</th>\n",
              "      <td>1667</td>\n",
              "      <td>1027099</td>\n",
              "    </tr>\n",
              "    <tr>\n",
              "      <th>40</th>\n",
              "      <td>1809</td>\n",
              "      <td>1261838</td>\n",
              "    </tr>\n",
              "    <tr>\n",
              "      <th>...</th>\n",
              "      <th>...</th>\n",
              "      <td>...</td>\n",
              "      <td>...</td>\n",
              "    </tr>\n",
              "    <tr>\n",
              "      <th rowspan=\"5\" valign=\"top\">직물</th>\n",
              "      <th>45</th>\n",
              "      <td>5668</td>\n",
              "      <td>1015511</td>\n",
              "    </tr>\n",
              "    <tr>\n",
              "      <th>50</th>\n",
              "      <td>6845</td>\n",
              "      <td>1406118</td>\n",
              "    </tr>\n",
              "    <tr>\n",
              "      <th>55</th>\n",
              "      <td>7895</td>\n",
              "      <td>1200026</td>\n",
              "    </tr>\n",
              "    <tr>\n",
              "      <th>60</th>\n",
              "      <td>7399</td>\n",
              "      <td>995644</td>\n",
              "    </tr>\n",
              "    <tr>\n",
              "      <th>65</th>\n",
              "      <td>8447</td>\n",
              "      <td>1187616</td>\n",
              "    </tr>\n",
              "  </tbody>\n",
              "</table>\n",
              "<p>230 rows × 2 columns</p>\n",
              "</div>"
            ],
            "text/plain": [
              "           이용건수20   이용금액20\n",
              "업종 AGE_CD                 \n",
              "가구 20         240    33340\n",
              "   25        1156   333598\n",
              "   30        1431   872445\n",
              "   35        1667  1027099\n",
              "   40        1809  1261838\n",
              "...           ...      ...\n",
              "직물 45        5668  1015511\n",
              "   50        6845  1406118\n",
              "   55        7895  1200026\n",
              "   60        7399   995644\n",
              "   65        8447  1187616\n",
              "\n",
              "[230 rows x 2 columns]"
            ]
          },
          "metadata": {
            "tags": []
          },
          "execution_count": 82
        }
      ]
    },
    {
      "cell_type": "code",
      "metadata": {
        "id": "2xTdYV0m0WCi",
        "colab_type": "code",
        "colab": {
          "base_uri": "https://localhost:8080/",
          "height": 431
        },
        "outputId": "91a08105-6c44-42fc-e543-af1ef2a2fc25"
      },
      "source": [
        "c = pd.concat([a,b],axis=1)\n",
        "c"
      ],
      "execution_count": null,
      "outputs": [
        {
          "output_type": "execute_result",
          "data": {
            "text/html": [
              "<div>\n",
              "<style scoped>\n",
              "    .dataframe tbody tr th:only-of-type {\n",
              "        vertical-align: middle;\n",
              "    }\n",
              "\n",
              "    .dataframe tbody tr th {\n",
              "        vertical-align: top;\n",
              "    }\n",
              "\n",
              "    .dataframe thead th {\n",
              "        text-align: right;\n",
              "    }\n",
              "</style>\n",
              "<table border=\"1\" class=\"dataframe\">\n",
              "  <thead>\n",
              "    <tr style=\"text-align: right;\">\n",
              "      <th></th>\n",
              "      <th></th>\n",
              "      <th>이용건수19</th>\n",
              "      <th>이용금액19</th>\n",
              "      <th>이용건수20</th>\n",
              "      <th>이용금액20</th>\n",
              "    </tr>\n",
              "    <tr>\n",
              "      <th>업종</th>\n",
              "      <th>AGE_CD</th>\n",
              "      <th></th>\n",
              "      <th></th>\n",
              "      <th></th>\n",
              "      <th></th>\n",
              "    </tr>\n",
              "  </thead>\n",
              "  <tbody>\n",
              "    <tr>\n",
              "      <th rowspan=\"5\" valign=\"top\">가구</th>\n",
              "      <th>20</th>\n",
              "      <td>553</td>\n",
              "      <td>41055</td>\n",
              "      <td>240</td>\n",
              "      <td>33340</td>\n",
              "    </tr>\n",
              "    <tr>\n",
              "      <th>25</th>\n",
              "      <td>1558</td>\n",
              "      <td>266604</td>\n",
              "      <td>1156</td>\n",
              "      <td>333598</td>\n",
              "    </tr>\n",
              "    <tr>\n",
              "      <th>30</th>\n",
              "      <td>1704</td>\n",
              "      <td>652525</td>\n",
              "      <td>1431</td>\n",
              "      <td>872445</td>\n",
              "    </tr>\n",
              "    <tr>\n",
              "      <th>35</th>\n",
              "      <td>1771</td>\n",
              "      <td>821415</td>\n",
              "      <td>1667</td>\n",
              "      <td>1027099</td>\n",
              "    </tr>\n",
              "    <tr>\n",
              "      <th>40</th>\n",
              "      <td>2259</td>\n",
              "      <td>1014373</td>\n",
              "      <td>1809</td>\n",
              "      <td>1261838</td>\n",
              "    </tr>\n",
              "    <tr>\n",
              "      <th>...</th>\n",
              "      <th>...</th>\n",
              "      <td>...</td>\n",
              "      <td>...</td>\n",
              "      <td>...</td>\n",
              "      <td>...</td>\n",
              "    </tr>\n",
              "    <tr>\n",
              "      <th rowspan=\"5\" valign=\"top\">직물</th>\n",
              "      <th>45</th>\n",
              "      <td>7289</td>\n",
              "      <td>1042532</td>\n",
              "      <td>5668</td>\n",
              "      <td>1015511</td>\n",
              "    </tr>\n",
              "    <tr>\n",
              "      <th>50</th>\n",
              "      <td>8155</td>\n",
              "      <td>1305821</td>\n",
              "      <td>6845</td>\n",
              "      <td>1406118</td>\n",
              "    </tr>\n",
              "    <tr>\n",
              "      <th>55</th>\n",
              "      <td>8468</td>\n",
              "      <td>1717445</td>\n",
              "      <td>7895</td>\n",
              "      <td>1200026</td>\n",
              "    </tr>\n",
              "    <tr>\n",
              "      <th>60</th>\n",
              "      <td>6947</td>\n",
              "      <td>965946</td>\n",
              "      <td>7399</td>\n",
              "      <td>995644</td>\n",
              "    </tr>\n",
              "    <tr>\n",
              "      <th>65</th>\n",
              "      <td>8610</td>\n",
              "      <td>1311060</td>\n",
              "      <td>8447</td>\n",
              "      <td>1187616</td>\n",
              "    </tr>\n",
              "  </tbody>\n",
              "</table>\n",
              "<p>230 rows × 4 columns</p>\n",
              "</div>"
            ],
            "text/plain": [
              "           이용건수19   이용금액19  이용건수20   이용금액20\n",
              "업종 AGE_CD                                  \n",
              "가구 20         553    41055     240    33340\n",
              "   25        1558   266604    1156   333598\n",
              "   30        1704   652525    1431   872445\n",
              "   35        1771   821415    1667  1027099\n",
              "   40        2259  1014373    1809  1261838\n",
              "...           ...      ...     ...      ...\n",
              "직물 45        7289  1042532    5668  1015511\n",
              "   50        8155  1305821    6845  1406118\n",
              "   55        8468  1717445    7895  1200026\n",
              "   60        6947   965946    7399   995644\n",
              "   65        8610  1311060    8447  1187616\n",
              "\n",
              "[230 rows x 4 columns]"
            ]
          },
          "metadata": {
            "tags": []
          },
          "execution_count": 83
        }
      ]
    },
    {
      "cell_type": "markdown",
      "metadata": {
        "id": "HDss5ITiAQcP",
        "colab_type": "text"
      },
      "source": [
        "\n",
        " 성별구분 / 월별 구분 추가 요망 ..\n",
        " 오늘 오후에 할 예정임 ㅎ\n",
        " "
      ]
    },
    {
      "cell_type": "code",
      "metadata": {
        "id": "lm6wdQSB0WCp",
        "colab_type": "code",
        "colab": {
          "base_uri": "https://localhost:8080/",
          "height": 431
        },
        "outputId": "e541081f-df83-4159-fce7-dc3cc9a1c2da"
      },
      "source": [
        "# 업종별 연도 차액 비교\n",
        "c['금액차이'] = c['이용금액19']-c['이용금액20']\n",
        "c['건수차이'] = c['이용건수19']-c['이용건수20']\n",
        "c"
      ],
      "execution_count": null,
      "outputs": [
        {
          "output_type": "execute_result",
          "data": {
            "text/html": [
              "<div>\n",
              "<style scoped>\n",
              "    .dataframe tbody tr th:only-of-type {\n",
              "        vertical-align: middle;\n",
              "    }\n",
              "\n",
              "    .dataframe tbody tr th {\n",
              "        vertical-align: top;\n",
              "    }\n",
              "\n",
              "    .dataframe thead th {\n",
              "        text-align: right;\n",
              "    }\n",
              "</style>\n",
              "<table border=\"1\" class=\"dataframe\">\n",
              "  <thead>\n",
              "    <tr style=\"text-align: right;\">\n",
              "      <th></th>\n",
              "      <th></th>\n",
              "      <th>이용건수19</th>\n",
              "      <th>이용금액19</th>\n",
              "      <th>이용건수20</th>\n",
              "      <th>이용금액20</th>\n",
              "      <th>금액차이</th>\n",
              "      <th>건수차이</th>\n",
              "    </tr>\n",
              "    <tr>\n",
              "      <th>업종</th>\n",
              "      <th>AGE_CD</th>\n",
              "      <th></th>\n",
              "      <th></th>\n",
              "      <th></th>\n",
              "      <th></th>\n",
              "      <th></th>\n",
              "      <th></th>\n",
              "    </tr>\n",
              "  </thead>\n",
              "  <tbody>\n",
              "    <tr>\n",
              "      <th rowspan=\"5\" valign=\"top\">가구</th>\n",
              "      <th>20</th>\n",
              "      <td>553</td>\n",
              "      <td>41055</td>\n",
              "      <td>240</td>\n",
              "      <td>33340</td>\n",
              "      <td>7715</td>\n",
              "      <td>313</td>\n",
              "    </tr>\n",
              "    <tr>\n",
              "      <th>25</th>\n",
              "      <td>1558</td>\n",
              "      <td>266604</td>\n",
              "      <td>1156</td>\n",
              "      <td>333598</td>\n",
              "      <td>-66994</td>\n",
              "      <td>402</td>\n",
              "    </tr>\n",
              "    <tr>\n",
              "      <th>30</th>\n",
              "      <td>1704</td>\n",
              "      <td>652525</td>\n",
              "      <td>1431</td>\n",
              "      <td>872445</td>\n",
              "      <td>-219920</td>\n",
              "      <td>273</td>\n",
              "    </tr>\n",
              "    <tr>\n",
              "      <th>35</th>\n",
              "      <td>1771</td>\n",
              "      <td>821415</td>\n",
              "      <td>1667</td>\n",
              "      <td>1027099</td>\n",
              "      <td>-205684</td>\n",
              "      <td>104</td>\n",
              "    </tr>\n",
              "    <tr>\n",
              "      <th>40</th>\n",
              "      <td>2259</td>\n",
              "      <td>1014373</td>\n",
              "      <td>1809</td>\n",
              "      <td>1261838</td>\n",
              "      <td>-247465</td>\n",
              "      <td>450</td>\n",
              "    </tr>\n",
              "    <tr>\n",
              "      <th>...</th>\n",
              "      <th>...</th>\n",
              "      <td>...</td>\n",
              "      <td>...</td>\n",
              "      <td>...</td>\n",
              "      <td>...</td>\n",
              "      <td>...</td>\n",
              "      <td>...</td>\n",
              "    </tr>\n",
              "    <tr>\n",
              "      <th rowspan=\"5\" valign=\"top\">직물</th>\n",
              "      <th>45</th>\n",
              "      <td>7289</td>\n",
              "      <td>1042532</td>\n",
              "      <td>5668</td>\n",
              "      <td>1015511</td>\n",
              "      <td>27021</td>\n",
              "      <td>1621</td>\n",
              "    </tr>\n",
              "    <tr>\n",
              "      <th>50</th>\n",
              "      <td>8155</td>\n",
              "      <td>1305821</td>\n",
              "      <td>6845</td>\n",
              "      <td>1406118</td>\n",
              "      <td>-100297</td>\n",
              "      <td>1310</td>\n",
              "    </tr>\n",
              "    <tr>\n",
              "      <th>55</th>\n",
              "      <td>8468</td>\n",
              "      <td>1717445</td>\n",
              "      <td>7895</td>\n",
              "      <td>1200026</td>\n",
              "      <td>517419</td>\n",
              "      <td>573</td>\n",
              "    </tr>\n",
              "    <tr>\n",
              "      <th>60</th>\n",
              "      <td>6947</td>\n",
              "      <td>965946</td>\n",
              "      <td>7399</td>\n",
              "      <td>995644</td>\n",
              "      <td>-29698</td>\n",
              "      <td>-452</td>\n",
              "    </tr>\n",
              "    <tr>\n",
              "      <th>65</th>\n",
              "      <td>8610</td>\n",
              "      <td>1311060</td>\n",
              "      <td>8447</td>\n",
              "      <td>1187616</td>\n",
              "      <td>123444</td>\n",
              "      <td>163</td>\n",
              "    </tr>\n",
              "  </tbody>\n",
              "</table>\n",
              "<p>230 rows × 6 columns</p>\n",
              "</div>"
            ],
            "text/plain": [
              "           이용건수19   이용금액19  이용건수20   이용금액20    금액차이  건수차이\n",
              "업종 AGE_CD                                                \n",
              "가구 20         553    41055     240    33340    7715   313\n",
              "   25        1558   266604    1156   333598  -66994   402\n",
              "   30        1704   652525    1431   872445 -219920   273\n",
              "   35        1771   821415    1667  1027099 -205684   104\n",
              "   40        2259  1014373    1809  1261838 -247465   450\n",
              "...           ...      ...     ...      ...     ...   ...\n",
              "직물 45        7289  1042532    5668  1015511   27021  1621\n",
              "   50        8155  1305821    6845  1406118 -100297  1310\n",
              "   55        8468  1717445    7895  1200026  517419   573\n",
              "   60        6947   965946    7399   995644  -29698  -452\n",
              "   65        8610  1311060    8447  1187616  123444   163\n",
              "\n",
              "[230 rows x 6 columns]"
            ]
          },
          "metadata": {
            "tags": []
          },
          "execution_count": 84
        }
      ]
    },
    {
      "cell_type": "code",
      "metadata": {
        "id": "USTOb3VR0WCw",
        "colab_type": "code",
        "colab": {
          "base_uri": "https://localhost:8080/",
          "height": 1000
        },
        "outputId": "86809610-37a3-4c32-a6fa-a9681e0ee7e0"
      },
      "source": [
        "c[c['금액차이']<0]"
      ],
      "execution_count": null,
      "outputs": [
        {
          "output_type": "execute_result",
          "data": {
            "text/html": [
              "<div>\n",
              "<style scoped>\n",
              "    .dataframe tbody tr th:only-of-type {\n",
              "        vertical-align: middle;\n",
              "    }\n",
              "\n",
              "    .dataframe tbody tr th {\n",
              "        vertical-align: top;\n",
              "    }\n",
              "\n",
              "    .dataframe thead th {\n",
              "        text-align: right;\n",
              "    }\n",
              "</style>\n",
              "<table border=\"1\" class=\"dataframe\">\n",
              "  <thead>\n",
              "    <tr style=\"text-align: right;\">\n",
              "      <th></th>\n",
              "      <th></th>\n",
              "      <th>이용건수19</th>\n",
              "      <th>이용금액19</th>\n",
              "      <th>이용건수20</th>\n",
              "      <th>이용금액20</th>\n",
              "      <th>금액차이</th>\n",
              "      <th>건수차이</th>\n",
              "    </tr>\n",
              "    <tr>\n",
              "      <th>MCT_CAT_CD</th>\n",
              "      <th>AGE_CD</th>\n",
              "      <th></th>\n",
              "      <th></th>\n",
              "      <th></th>\n",
              "      <th></th>\n",
              "      <th></th>\n",
              "      <th></th>\n",
              "    </tr>\n",
              "  </thead>\n",
              "  <tbody>\n",
              "    <tr>\n",
              "      <th rowspan=\"8\" valign=\"top\">30</th>\n",
              "      <th>25</th>\n",
              "      <td>1558</td>\n",
              "      <td>266604</td>\n",
              "      <td>1156</td>\n",
              "      <td>333598</td>\n",
              "      <td>-66994</td>\n",
              "      <td>402</td>\n",
              "    </tr>\n",
              "    <tr>\n",
              "      <th>30</th>\n",
              "      <td>1704</td>\n",
              "      <td>652525</td>\n",
              "      <td>1431</td>\n",
              "      <td>872445</td>\n",
              "      <td>-219920</td>\n",
              "      <td>273</td>\n",
              "    </tr>\n",
              "    <tr>\n",
              "      <th>35</th>\n",
              "      <td>1771</td>\n",
              "      <td>821415</td>\n",
              "      <td>1667</td>\n",
              "      <td>1027099</td>\n",
              "      <td>-205684</td>\n",
              "      <td>104</td>\n",
              "    </tr>\n",
              "    <tr>\n",
              "      <th>40</th>\n",
              "      <td>2259</td>\n",
              "      <td>1014373</td>\n",
              "      <td>1809</td>\n",
              "      <td>1261838</td>\n",
              "      <td>-247465</td>\n",
              "      <td>450</td>\n",
              "    </tr>\n",
              "    <tr>\n",
              "      <th>45</th>\n",
              "      <td>2874</td>\n",
              "      <td>1006089</td>\n",
              "      <td>2082</td>\n",
              "      <td>1025735</td>\n",
              "      <td>-19646</td>\n",
              "      <td>792</td>\n",
              "    </tr>\n",
              "    <tr>\n",
              "      <th>50</th>\n",
              "      <td>2795</td>\n",
              "      <td>1182008</td>\n",
              "      <td>2420</td>\n",
              "      <td>1379912</td>\n",
              "      <td>-197904</td>\n",
              "      <td>375</td>\n",
              "    </tr>\n",
              "    <tr>\n",
              "      <th>60</th>\n",
              "      <td>1314</td>\n",
              "      <td>645528</td>\n",
              "      <td>1521</td>\n",
              "      <td>826549</td>\n",
              "      <td>-181021</td>\n",
              "      <td>-207</td>\n",
              "    </tr>\n",
              "    <tr>\n",
              "      <th>65</th>\n",
              "      <td>1553</td>\n",
              "      <td>652959</td>\n",
              "      <td>1964</td>\n",
              "      <td>749852</td>\n",
              "      <td>-96893</td>\n",
              "      <td>-411</td>\n",
              "    </tr>\n",
              "    <tr>\n",
              "      <th rowspan=\"7\" valign=\"top\">31</th>\n",
              "      <th>20</th>\n",
              "      <td>38</td>\n",
              "      <td>2339</td>\n",
              "      <td>37</td>\n",
              "      <td>4452</td>\n",
              "      <td>-2113</td>\n",
              "      <td>1</td>\n",
              "    </tr>\n",
              "    <tr>\n",
              "      <th>35</th>\n",
              "      <td>281</td>\n",
              "      <td>71155</td>\n",
              "      <td>478</td>\n",
              "      <td>75707</td>\n",
              "      <td>-4552</td>\n",
              "      <td>-197</td>\n",
              "    </tr>\n",
              "    <tr>\n",
              "      <th>40</th>\n",
              "      <td>410</td>\n",
              "      <td>81848</td>\n",
              "      <td>494</td>\n",
              "      <td>108642</td>\n",
              "      <td>-26794</td>\n",
              "      <td>-84</td>\n",
              "    </tr>\n",
              "    <tr>\n",
              "      <th>45</th>\n",
              "      <td>661</td>\n",
              "      <td>122453</td>\n",
              "      <td>653</td>\n",
              "      <td>171099</td>\n",
              "      <td>-48646</td>\n",
              "      <td>8</td>\n",
              "    </tr>\n",
              "    <tr>\n",
              "      <th>50</th>\n",
              "      <td>692</td>\n",
              "      <td>170537</td>\n",
              "      <td>721</td>\n",
              "      <td>173240</td>\n",
              "      <td>-2703</td>\n",
              "      <td>-29</td>\n",
              "    </tr>\n",
              "    <tr>\n",
              "      <th>60</th>\n",
              "      <td>587</td>\n",
              "      <td>119034</td>\n",
              "      <td>710</td>\n",
              "      <td>137313</td>\n",
              "      <td>-18279</td>\n",
              "      <td>-123</td>\n",
              "    </tr>\n",
              "    <tr>\n",
              "      <th>65</th>\n",
              "      <td>829</td>\n",
              "      <td>226268</td>\n",
              "      <td>973</td>\n",
              "      <td>228174</td>\n",
              "      <td>-1906</td>\n",
              "      <td>-144</td>\n",
              "    </tr>\n",
              "    <tr>\n",
              "      <th rowspan=\"2\" valign=\"top\">32</th>\n",
              "      <th>60</th>\n",
              "      <td>7624</td>\n",
              "      <td>1032930</td>\n",
              "      <td>7928</td>\n",
              "      <td>1160533</td>\n",
              "      <td>-127603</td>\n",
              "      <td>-304</td>\n",
              "    </tr>\n",
              "    <tr>\n",
              "      <th>65</th>\n",
              "      <td>8290</td>\n",
              "      <td>900508</td>\n",
              "      <td>9170</td>\n",
              "      <td>990537</td>\n",
              "      <td>-90029</td>\n",
              "      <td>-880</td>\n",
              "    </tr>\n",
              "    <tr>\n",
              "      <th>34</th>\n",
              "      <th>55</th>\n",
              "      <td>6563</td>\n",
              "      <td>647392</td>\n",
              "      <td>4394</td>\n",
              "      <td>716884</td>\n",
              "      <td>-69492</td>\n",
              "      <td>2169</td>\n",
              "    </tr>\n",
              "    <tr>\n",
              "      <th rowspan=\"3\" valign=\"top\">43</th>\n",
              "      <th>40</th>\n",
              "      <td>4908</td>\n",
              "      <td>564445</td>\n",
              "      <td>3948</td>\n",
              "      <td>635060</td>\n",
              "      <td>-70615</td>\n",
              "      <td>960</td>\n",
              "    </tr>\n",
              "    <tr>\n",
              "      <th>50</th>\n",
              "      <td>8155</td>\n",
              "      <td>1305821</td>\n",
              "      <td>6845</td>\n",
              "      <td>1406118</td>\n",
              "      <td>-100297</td>\n",
              "      <td>1310</td>\n",
              "    </tr>\n",
              "    <tr>\n",
              "      <th>60</th>\n",
              "      <td>6947</td>\n",
              "      <td>965946</td>\n",
              "      <td>7399</td>\n",
              "      <td>995644</td>\n",
              "      <td>-29698</td>\n",
              "      <td>-452</td>\n",
              "    </tr>\n",
              "    <tr>\n",
              "      <th rowspan=\"4\" valign=\"top\">60</th>\n",
              "      <th>25</th>\n",
              "      <td>1839</td>\n",
              "      <td>583938</td>\n",
              "      <td>1838</td>\n",
              "      <td>706089</td>\n",
              "      <td>-122151</td>\n",
              "      <td>1</td>\n",
              "    </tr>\n",
              "    <tr>\n",
              "      <th>30</th>\n",
              "      <td>2269</td>\n",
              "      <td>1245238</td>\n",
              "      <td>2341</td>\n",
              "      <td>1257004</td>\n",
              "      <td>-11766</td>\n",
              "      <td>-72</td>\n",
              "    </tr>\n",
              "    <tr>\n",
              "      <th>50</th>\n",
              "      <td>2585</td>\n",
              "      <td>1516714</td>\n",
              "      <td>2699</td>\n",
              "      <td>1925654</td>\n",
              "      <td>-408940</td>\n",
              "      <td>-114</td>\n",
              "    </tr>\n",
              "    <tr>\n",
              "      <th>65</th>\n",
              "      <td>1087</td>\n",
              "      <td>433201</td>\n",
              "      <td>1260</td>\n",
              "      <td>572059</td>\n",
              "      <td>-138858</td>\n",
              "      <td>-173</td>\n",
              "    </tr>\n",
              "    <tr>\n",
              "      <th>70</th>\n",
              "      <th>25</th>\n",
              "      <td>740353</td>\n",
              "      <td>32702896</td>\n",
              "      <td>862737</td>\n",
              "      <td>33378868</td>\n",
              "      <td>-675972</td>\n",
              "      <td>-122384</td>\n",
              "    </tr>\n",
              "    <tr>\n",
              "      <th rowspan=\"6\" valign=\"top\">81</th>\n",
              "      <th>40</th>\n",
              "      <td>663897</td>\n",
              "      <td>9660306</td>\n",
              "      <td>631788</td>\n",
              "      <td>10005302</td>\n",
              "      <td>-344996</td>\n",
              "      <td>32109</td>\n",
              "    </tr>\n",
              "    <tr>\n",
              "      <th>45</th>\n",
              "      <td>790559</td>\n",
              "      <td>11866025</td>\n",
              "      <td>747974</td>\n",
              "      <td>12282602</td>\n",
              "      <td>-416577</td>\n",
              "      <td>42585</td>\n",
              "    </tr>\n",
              "    <tr>\n",
              "      <th>50</th>\n",
              "      <td>648262</td>\n",
              "      <td>11452337</td>\n",
              "      <td>699812</td>\n",
              "      <td>12606177</td>\n",
              "      <td>-1153840</td>\n",
              "      <td>-51550</td>\n",
              "    </tr>\n",
              "    <tr>\n",
              "      <th>55</th>\n",
              "      <td>472357</td>\n",
              "      <td>9297069</td>\n",
              "      <td>508764</td>\n",
              "      <td>9794785</td>\n",
              "      <td>-497716</td>\n",
              "      <td>-36407</td>\n",
              "    </tr>\n",
              "    <tr>\n",
              "      <th>60</th>\n",
              "      <td>322089</td>\n",
              "      <td>7347545</td>\n",
              "      <td>372429</td>\n",
              "      <td>8043822</td>\n",
              "      <td>-696277</td>\n",
              "      <td>-50340</td>\n",
              "    </tr>\n",
              "    <tr>\n",
              "      <th>65</th>\n",
              "      <td>357265</td>\n",
              "      <td>9019479</td>\n",
              "      <td>452636</td>\n",
              "      <td>10731136</td>\n",
              "      <td>-1711657</td>\n",
              "      <td>-95371</td>\n",
              "    </tr>\n",
              "    <tr>\n",
              "      <th rowspan=\"4\" valign=\"top\">92</th>\n",
              "      <th>25</th>\n",
              "      <td>23277</td>\n",
              "      <td>512241</td>\n",
              "      <td>24932</td>\n",
              "      <td>583827</td>\n",
              "      <td>-71586</td>\n",
              "      <td>-1655</td>\n",
              "    </tr>\n",
              "    <tr>\n",
              "      <th>30</th>\n",
              "      <td>25880</td>\n",
              "      <td>698449</td>\n",
              "      <td>23344</td>\n",
              "      <td>728185</td>\n",
              "      <td>-29736</td>\n",
              "      <td>2536</td>\n",
              "    </tr>\n",
              "    <tr>\n",
              "      <th>50</th>\n",
              "      <td>43235</td>\n",
              "      <td>1269583</td>\n",
              "      <td>42628</td>\n",
              "      <td>1380614</td>\n",
              "      <td>-111031</td>\n",
              "      <td>607</td>\n",
              "    </tr>\n",
              "    <tr>\n",
              "      <th>65</th>\n",
              "      <td>11104</td>\n",
              "      <td>462221</td>\n",
              "      <td>12130</td>\n",
              "      <td>581011</td>\n",
              "      <td>-118790</td>\n",
              "      <td>-1026</td>\n",
              "    </tr>\n",
              "  </tbody>\n",
              "</table>\n",
              "</div>"
            ],
            "text/plain": [
              "                   이용건수19    이용금액19  이용건수20    이용금액20     금액차이    건수차이\n",
              "MCT_CAT_CD AGE_CD                                                     \n",
              "30         25        1558    266604    1156    333598   -66994     402\n",
              "           30        1704    652525    1431    872445  -219920     273\n",
              "           35        1771    821415    1667   1027099  -205684     104\n",
              "           40        2259   1014373    1809   1261838  -247465     450\n",
              "           45        2874   1006089    2082   1025735   -19646     792\n",
              "           50        2795   1182008    2420   1379912  -197904     375\n",
              "           60        1314    645528    1521    826549  -181021    -207\n",
              "           65        1553    652959    1964    749852   -96893    -411\n",
              "31         20          38      2339      37      4452    -2113       1\n",
              "           35         281     71155     478     75707    -4552    -197\n",
              "           40         410     81848     494    108642   -26794     -84\n",
              "           45         661    122453     653    171099   -48646       8\n",
              "           50         692    170537     721    173240    -2703     -29\n",
              "           60         587    119034     710    137313   -18279    -123\n",
              "           65         829    226268     973    228174    -1906    -144\n",
              "32         60        7624   1032930    7928   1160533  -127603    -304\n",
              "           65        8290    900508    9170    990537   -90029    -880\n",
              "34         55        6563    647392    4394    716884   -69492    2169\n",
              "43         40        4908    564445    3948    635060   -70615     960\n",
              "           50        8155   1305821    6845   1406118  -100297    1310\n",
              "           60        6947    965946    7399    995644   -29698    -452\n",
              "60         25        1839    583938    1838    706089  -122151       1\n",
              "           30        2269   1245238    2341   1257004   -11766     -72\n",
              "           50        2585   1516714    2699   1925654  -408940    -114\n",
              "           65        1087    433201    1260    572059  -138858    -173\n",
              "70         25      740353  32702896  862737  33378868  -675972 -122384\n",
              "81         40      663897   9660306  631788  10005302  -344996   32109\n",
              "           45      790559  11866025  747974  12282602  -416577   42585\n",
              "           50      648262  11452337  699812  12606177 -1153840  -51550\n",
              "           55      472357   9297069  508764   9794785  -497716  -36407\n",
              "           60      322089   7347545  372429   8043822  -696277  -50340\n",
              "           65      357265   9019479  452636  10731136 -1711657  -95371\n",
              "92         25       23277    512241   24932    583827   -71586   -1655\n",
              "           30       25880    698449   23344    728185   -29736    2536\n",
              "           50       43235   1269583   42628   1380614  -111031     607\n",
              "           65       11104    462221   12130    581011  -118790   -1026"
            ]
          },
          "metadata": {
            "tags": []
          },
          "execution_count": 32
        }
      ]
    },
    {
      "cell_type": "code",
      "metadata": {
        "id": "NNBUTQ8T58NY",
        "colab_type": "code",
        "colab": {}
      },
      "source": [
        "# 연령별 소비데이터 분석 및 시각화\n",
        "dong = pd.read_excel(\"/content/gdrive/My Drive/BigCon_BiKong/Data(given)/02_카드매출데이터(신한카드)_하은/02_혁신아이디어분야_카드소비데이터(신한카드)_데이터정의서.xlsx\",encoding='cp494',sheet_name='(참고) 행정동코드', skiprows=1,skipcols=1)\n",
        "business = pd.read_excel(\"/content/gdrive/My Drive/BigCon_BiKong/Data(given)/02_카드매출데이터(신한카드)_하은/02_혁신아이디어분야_카드소비데이터(신한카드)_데이터정의서.xlsx\",encoding='cp494',sheet_name='(참고) 업종코드', skiprows=1,skipcols=1)\n",
        "\n",
        "dong_cd = dong[['구코드', '행정동코드', '구명', '행정동명']]\n",
        "dong_cd2=dong_cd.set_index('구코드')\n",
        " "
      ],
      "execution_count": null,
      "outputs": []
    },
    {
      "cell_type": "code",
      "metadata": {
        "id": "jf0KMreXzWDm",
        "colab_type": "code",
        "colab": {}
      },
      "source": [
        "business_cd = business[['업종코드 (32개 분류)', '세부 업종코드']]\n",
        "business_cd = business_cd.fillna(method='pad')\n",
        "business_cd = business_cd.dropna()"
      ],
      "execution_count": null,
      "outputs": []
    },
    {
      "cell_type": "code",
      "metadata": {
        "id": "KNQXE8az5jJS",
        "colab_type": "code",
        "colab": {
          "base_uri": "https://localhost:8080/",
          "height": 402
        },
        "outputId": "27674c4c-bd40-4337-a76d-33f2681758ba"
      },
      "source": [
        "business_cd['code'] = business_cd['업종코드 (32개 분류)'].str[-3:-1]\n",
        "business_cd"
      ],
      "execution_count": null,
      "outputs": [
        {
          "output_type": "execute_result",
          "data": {
            "text/html": [
              "<div>\n",
              "<style scoped>\n",
              "    .dataframe tbody tr th:only-of-type {\n",
              "        vertical-align: middle;\n",
              "    }\n",
              "\n",
              "    .dataframe tbody tr th {\n",
              "        vertical-align: top;\n",
              "    }\n",
              "\n",
              "    .dataframe thead th {\n",
              "        text-align: right;\n",
              "    }\n",
              "</style>\n",
              "<table border=\"1\" class=\"dataframe\">\n",
              "  <thead>\n",
              "    <tr style=\"text-align: right;\">\n",
              "      <th></th>\n",
              "      <th>업종코드 (32개 분류)</th>\n",
              "      <th>세부 업종코드</th>\n",
              "      <th>code</th>\n",
              "    </tr>\n",
              "  </thead>\n",
              "  <tbody>\n",
              "    <tr>\n",
              "      <th>1</th>\n",
              "      <td>숙박(10)</td>\n",
              "      <td>특급 호텔</td>\n",
              "      <td>10</td>\n",
              "    </tr>\n",
              "    <tr>\n",
              "      <th>2</th>\n",
              "      <td>숙박(10)</td>\n",
              "      <td>1급 호텔</td>\n",
              "      <td>10</td>\n",
              "    </tr>\n",
              "    <tr>\n",
              "      <th>3</th>\n",
              "      <td>숙박(10)</td>\n",
              "      <td>2급 호텔</td>\n",
              "      <td>10</td>\n",
              "    </tr>\n",
              "    <tr>\n",
              "      <th>4</th>\n",
              "      <td>숙박(10)</td>\n",
              "      <td>콘도미니엄</td>\n",
              "      <td>10</td>\n",
              "    </tr>\n",
              "    <tr>\n",
              "      <th>5</th>\n",
              "      <td>숙박(10)</td>\n",
              "      <td>모텔,여관,기타숙박</td>\n",
              "      <td>10</td>\n",
              "    </tr>\n",
              "    <tr>\n",
              "      <th>...</th>\n",
              "      <td>...</td>\n",
              "      <td>...</td>\n",
              "      <td>...</td>\n",
              "    </tr>\n",
              "    <tr>\n",
              "      <th>161</th>\n",
              "      <td>음료식품(81)</td>\n",
              "      <td>인삼 및 건강제품</td>\n",
              "      <td>81</td>\n",
              "    </tr>\n",
              "    <tr>\n",
              "      <th>162</th>\n",
              "      <td>수리서비스(92)</td>\n",
              "      <td>각종 수리점</td>\n",
              "      <td>92</td>\n",
              "    </tr>\n",
              "    <tr>\n",
              "      <th>163</th>\n",
              "      <td>수리서비스(92)</td>\n",
              "      <td>열쇠,도장</td>\n",
              "      <td>92</td>\n",
              "    </tr>\n",
              "    <tr>\n",
              "      <th>164</th>\n",
              "      <td>수리서비스(92)</td>\n",
              "      <td>휴대폰수리</td>\n",
              "      <td>92</td>\n",
              "    </tr>\n",
              "    <tr>\n",
              "      <th>165</th>\n",
              "      <td>수리서비스(92)</td>\n",
              "      <td>세탁소</td>\n",
              "      <td>92</td>\n",
              "    </tr>\n",
              "  </tbody>\n",
              "</table>\n",
              "<p>165 rows × 3 columns</p>\n",
              "</div>"
            ],
            "text/plain": [
              "    업종코드 (32개 분류)     세부 업종코드 code\n",
              "1          숙박(10)       특급 호텔   10\n",
              "2          숙박(10)       1급 호텔   10\n",
              "3          숙박(10)       2급 호텔   10\n",
              "4          숙박(10)       콘도미니엄   10\n",
              "5          숙박(10)  모텔,여관,기타숙박   10\n",
              "..            ...         ...  ...\n",
              "161      음료식품(81)   인삼 및 건강제품   81\n",
              "162     수리서비스(92)      각종 수리점   92\n",
              "163     수리서비스(92)       열쇠,도장   92\n",
              "164     수리서비스(92)       휴대폰수리   92\n",
              "165     수리서비스(92)         세탁소   92\n",
              "\n",
              "[165 rows x 3 columns]"
            ]
          },
          "metadata": {
            "tags": []
          },
          "execution_count": 13
        }
      ]
    },
    {
      "cell_type": "markdown",
      "metadata": {
        "id": "w9UTyITa6nrC",
        "colab_type": "text"
      },
      "source": [
        "DataFrame.values = numpy.ndarray 형태로 모든 열을 반환해줌"
      ]
    },
    {
      "cell_type": "markdown",
      "metadata": {
        "id": "6oB9GkJF7Z_d",
        "colab_type": "text"
      },
      "source": [
        "* map 함수 : map(function,**iterable)\n",
        "- in numpy , 1차원 원소별 적용\n",
        "- Return to list\n",
        "\n",
        "* map method : data.map(func,**iterable)\n",
        "- in Pandas , 1차원 원소별 적용\n",
        "- Return to Series"
      ]
    },
    {
      "cell_type": "code",
      "metadata": {
        "id": "2yrnqMjp_o8K",
        "colab_type": "code",
        "colab": {
          "base_uri": "https://localhost:8080/",
          "height": 70
        },
        "outputId": "d423fd1e-3f7b-436b-b6e0-ada3f321064b"
      },
      "source": [
        "resident.columns"
      ],
      "execution_count": null,
      "outputs": [
        {
          "output_type": "execute_result",
          "data": {
            "text/plain": [
              "Index(['STD_DD', 'GU_CD', 'DONG_CD', 'MCT_CAT_CD', 'SEX_CD', 'AGE_CD',\n",
              "       'USE_CNT', 'USE_AMT', 'year_month', 'month', 'year', 'city', '지구'],\n",
              "      dtype='object')"
            ]
          },
          "metadata": {
            "tags": []
          },
          "execution_count": 45
        }
      ]
    },
    {
      "cell_type": "code",
      "metadata": {
        "id": "rHKmyMOGDsxk",
        "colab_type": "code",
        "colab": {
          "base_uri": "https://localhost:8080/",
          "height": 431
        },
        "outputId": "811e3e4a-6da1-46f3-c315-3d797b956508"
      },
      "source": [
        "resident['시_구'] = dong_cd2.index.map(gu_dic)\n"
      ],
      "execution_count": null,
      "outputs": [
        {
          "output_type": "execute_result",
          "data": {
            "text/html": [
              "<div>\n",
              "<style scoped>\n",
              "    .dataframe tbody tr th:only-of-type {\n",
              "        vertical-align: middle;\n",
              "    }\n",
              "\n",
              "    .dataframe tbody tr th {\n",
              "        vertical-align: top;\n",
              "    }\n",
              "\n",
              "    .dataframe thead th {\n",
              "        text-align: right;\n",
              "    }\n",
              "</style>\n",
              "<table border=\"1\" class=\"dataframe\">\n",
              "  <thead>\n",
              "    <tr style=\"text-align: right;\">\n",
              "      <th></th>\n",
              "      <th>행정동코드</th>\n",
              "      <th>구명</th>\n",
              "      <th>행정동명</th>\n",
              "    </tr>\n",
              "    <tr>\n",
              "      <th>구코드</th>\n",
              "      <th></th>\n",
              "      <th></th>\n",
              "      <th></th>\n",
              "    </tr>\n",
              "  </thead>\n",
              "  <tbody>\n",
              "    <tr>\n",
              "      <th>140</th>\n",
              "      <td>520</td>\n",
              "      <td>서울 중구</td>\n",
              "      <td>소공동</td>\n",
              "    </tr>\n",
              "    <tr>\n",
              "      <th>140</th>\n",
              "      <td>540</td>\n",
              "      <td>서울 중구</td>\n",
              "      <td>회현동</td>\n",
              "    </tr>\n",
              "    <tr>\n",
              "      <th>140</th>\n",
              "      <td>550</td>\n",
              "      <td>서울 중구</td>\n",
              "      <td>명동</td>\n",
              "    </tr>\n",
              "    <tr>\n",
              "      <th>140</th>\n",
              "      <td>570</td>\n",
              "      <td>서울 중구</td>\n",
              "      <td>필동</td>\n",
              "    </tr>\n",
              "    <tr>\n",
              "      <th>140</th>\n",
              "      <td>580</td>\n",
              "      <td>서울 중구</td>\n",
              "      <td>장충동</td>\n",
              "    </tr>\n",
              "    <tr>\n",
              "      <th>...</th>\n",
              "      <td>...</td>\n",
              "      <td>...</td>\n",
              "      <td>...</td>\n",
              "    </tr>\n",
              "    <tr>\n",
              "      <th>110</th>\n",
              "      <td>650</td>\n",
              "      <td>대구 중구</td>\n",
              "      <td>남산2동</td>\n",
              "    </tr>\n",
              "    <tr>\n",
              "      <th>110</th>\n",
              "      <td>660</td>\n",
              "      <td>대구 중구</td>\n",
              "      <td>남산3동</td>\n",
              "    </tr>\n",
              "    <tr>\n",
              "      <th>110</th>\n",
              "      <td>670</td>\n",
              "      <td>대구 중구</td>\n",
              "      <td>남산4동</td>\n",
              "    </tr>\n",
              "    <tr>\n",
              "      <th>110</th>\n",
              "      <td>680</td>\n",
              "      <td>대구 중구</td>\n",
              "      <td>대봉1동</td>\n",
              "    </tr>\n",
              "    <tr>\n",
              "      <th>110</th>\n",
              "      <td>690</td>\n",
              "      <td>대구 중구</td>\n",
              "      <td>대봉2동</td>\n",
              "    </tr>\n",
              "  </tbody>\n",
              "</table>\n",
              "<p>69 rows × 3 columns</p>\n",
              "</div>"
            ],
            "text/plain": [
              "     행정동코드     구명  행정동명\n",
              "구코드                    \n",
              "140    520  서울 중구   소공동\n",
              "140    540  서울 중구   회현동\n",
              "140    550  서울 중구    명동\n",
              "140    570  서울 중구    필동\n",
              "140    580  서울 중구   장충동\n",
              "..     ...    ...   ...\n",
              "110    650  대구 중구  남산2동\n",
              "110    660  대구 중구  남산3동\n",
              "110    670  대구 중구  남산4동\n",
              "110    680  대구 중구  대봉1동\n",
              "110    690  대구 중구  대봉2동\n",
              "\n",
              "[69 rows x 3 columns]"
            ]
          },
          "metadata": {
            "tags": []
          },
          "execution_count": 85
        }
      ]
    },
    {
      "cell_type": "code",
      "metadata": {
        "id": "_mTlZmMHAW07",
        "colab_type": "code",
        "colab": {}
      },
      "source": [
        "# # resident = resident.set_index('GU_CD')\n",
        "# # resident['행정동'] = \n",
        "# [gu_dong_dic[(i,x)] for i,x in zip(dong_cd.index, dong_cd['행정동코드'])]\n",
        "# gu_dong_dic.keys()[0]"
      ],
      "execution_count": null,
      "outputs": []
    },
    {
      "cell_type": "code",
      "metadata": {
        "id": "LXXjnFPTW8n2",
        "colab_type": "code",
        "colab": {
          "base_uri": "https://localhost:8080/",
          "height": 87
        },
        "outputId": "7e72092f-a9c6-428f-fb82-287fb92beeb1"
      },
      "source": [
        "resident.columns"
      ],
      "execution_count": null,
      "outputs": [
        {
          "output_type": "execute_result",
          "data": {
            "text/plain": [
              "Index(['STD_DD', 'GU_CD', 'DONG_CD', 'MCT_CAT_CD', 'SEX_CD', 'AGE_CD',\n",
              "       'USE_CNT', 'USE_AMT', 'year_month', 'month', 'year', 'city', '지구', '업종',\n",
              "       '요일'],\n",
              "      dtype='object')"
            ]
          },
          "metadata": {
            "tags": []
          },
          "execution_count": 49
        }
      ]
    },
    {
      "cell_type": "code",
      "metadata": {
        "id": "o1IOGj1VC-gI",
        "colab_type": "code",
        "colab": {
          "base_uri": "https://localhost:8080/",
          "height": 431
        },
        "outputId": "d342cb20-72a6-4482-eb28-a810dc09c02a"
      },
      "source": [
        "resident_town = resident[['업종','지구','year','USE_CNT']].groupby(['year','지구','업종','year']).sum()\n",
        "resident_town"
      ],
      "execution_count": null,
      "outputs": [
        {
          "output_type": "execute_result",
          "data": {
            "text/html": [
              "<div>\n",
              "<style scoped>\n",
              "    .dataframe tbody tr th:only-of-type {\n",
              "        vertical-align: middle;\n",
              "    }\n",
              "\n",
              "    .dataframe tbody tr th {\n",
              "        vertical-align: top;\n",
              "    }\n",
              "\n",
              "    .dataframe thead th {\n",
              "        text-align: right;\n",
              "    }\n",
              "</style>\n",
              "<table border=\"1\" class=\"dataframe\">\n",
              "  <thead>\n",
              "    <tr style=\"text-align: right;\">\n",
              "      <th></th>\n",
              "      <th></th>\n",
              "      <th></th>\n",
              "      <th></th>\n",
              "      <th>USE_CNT</th>\n",
              "    </tr>\n",
              "    <tr>\n",
              "      <th>year</th>\n",
              "      <th>지구</th>\n",
              "      <th>업종</th>\n",
              "      <th>year</th>\n",
              "      <th></th>\n",
              "    </tr>\n",
              "  </thead>\n",
              "  <tbody>\n",
              "    <tr>\n",
              "      <th rowspan=\"5\" valign=\"top\">2019</th>\n",
              "      <th rowspan=\"5\" valign=\"top\">상업지구</th>\n",
              "      <th>가구</th>\n",
              "      <th>2019</th>\n",
              "      <td>7315</td>\n",
              "    </tr>\n",
              "    <tr>\n",
              "      <th>가전</th>\n",
              "      <th>2019</th>\n",
              "      <td>59943</td>\n",
              "    </tr>\n",
              "    <tr>\n",
              "      <th>광학제품</th>\n",
              "      <th>2019</th>\n",
              "      <td>70290</td>\n",
              "    </tr>\n",
              "    <tr>\n",
              "      <th>레저업소</th>\n",
              "      <th>2019</th>\n",
              "      <td>751923</td>\n",
              "    </tr>\n",
              "    <tr>\n",
              "      <th>레저용품</th>\n",
              "      <th>2019</th>\n",
              "      <td>1083191</td>\n",
              "    </tr>\n",
              "    <tr>\n",
              "      <th>...</th>\n",
              "      <th>...</th>\n",
              "      <th>...</th>\n",
              "      <th>...</th>\n",
              "      <td>...</td>\n",
              "    </tr>\n",
              "    <tr>\n",
              "      <th rowspan=\"5\" valign=\"top\">2020</th>\n",
              "      <th rowspan=\"5\" valign=\"top\">주거지구</th>\n",
              "      <th>자동차정비</th>\n",
              "      <th>2020</th>\n",
              "      <td>197840</td>\n",
              "    </tr>\n",
              "    <tr>\n",
              "      <th>자동차판매</th>\n",
              "      <th>2020</th>\n",
              "      <td>8736</td>\n",
              "    </tr>\n",
              "    <tr>\n",
              "      <th>전기</th>\n",
              "      <th>2020</th>\n",
              "      <td>4156</td>\n",
              "    </tr>\n",
              "    <tr>\n",
              "      <th>주방용구</th>\n",
              "      <th>2020</th>\n",
              "      <td>18702</td>\n",
              "    </tr>\n",
              "    <tr>\n",
              "      <th>직물</th>\n",
              "      <th>2020</th>\n",
              "      <td>10875</td>\n",
              "    </tr>\n",
              "  </tbody>\n",
              "</table>\n",
              "<p>92 rows × 1 columns</p>\n",
              "</div>"
            ],
            "text/plain": [
              "                      USE_CNT\n",
              "year 지구   업종    year         \n",
              "2019 상업지구 가구    2019     7315\n",
              "          가전    2019    59943\n",
              "          광학제품  2019    70290\n",
              "          레저업소  2019   751923\n",
              "          레저용품  2019  1083191\n",
              "...                       ...\n",
              "2020 주거지구 자동차정비 2020   197840\n",
              "          자동차판매 2020     8736\n",
              "          전기    2020     4156\n",
              "          주방용구  2020    18702\n",
              "          직물    2020    10875\n",
              "\n",
              "[92 rows x 1 columns]"
            ]
          },
          "metadata": {
            "tags": []
          },
          "execution_count": 45
        }
      ]
    },
    {
      "cell_type": "code",
      "metadata": {
        "id": "V3f5zlBZmch6",
        "colab_type": "code",
        "colab": {
          "base_uri": "https://localhost:8080/",
          "height": 431
        },
        "outputId": "d5fb397d-0cea-4cb7-d3f4-16c6a4f52a66"
      },
      "source": [
        "resident_year = resident[['업종','지구','year','USE_AMT']].groupby(['지구','업종','year']).sum()\n",
        "resident_year"
      ],
      "execution_count": null,
      "outputs": [
        {
          "output_type": "execute_result",
          "data": {
            "text/html": [
              "<div>\n",
              "<style scoped>\n",
              "    .dataframe tbody tr th:only-of-type {\n",
              "        vertical-align: middle;\n",
              "    }\n",
              "\n",
              "    .dataframe tbody tr th {\n",
              "        vertical-align: top;\n",
              "    }\n",
              "\n",
              "    .dataframe thead th {\n",
              "        text-align: right;\n",
              "    }\n",
              "</style>\n",
              "<table border=\"1\" class=\"dataframe\">\n",
              "  <thead>\n",
              "    <tr style=\"text-align: right;\">\n",
              "      <th></th>\n",
              "      <th></th>\n",
              "      <th></th>\n",
              "      <th>USE_AMT</th>\n",
              "    </tr>\n",
              "    <tr>\n",
              "      <th>지구</th>\n",
              "      <th>업종</th>\n",
              "      <th>year</th>\n",
              "      <th></th>\n",
              "    </tr>\n",
              "  </thead>\n",
              "  <tbody>\n",
              "    <tr>\n",
              "      <th rowspan=\"5\" valign=\"top\">상업지구</th>\n",
              "      <th rowspan=\"2\" valign=\"top\">가구</th>\n",
              "      <th>2019</th>\n",
              "      <td>3427970</td>\n",
              "    </tr>\n",
              "    <tr>\n",
              "      <th>2020</th>\n",
              "      <td>3019251</td>\n",
              "    </tr>\n",
              "    <tr>\n",
              "      <th rowspan=\"2\" valign=\"top\">가전</th>\n",
              "      <th>2019</th>\n",
              "      <td>16767780</td>\n",
              "    </tr>\n",
              "    <tr>\n",
              "      <th>2020</th>\n",
              "      <td>10684510</td>\n",
              "    </tr>\n",
              "    <tr>\n",
              "      <th>광학제품</th>\n",
              "      <th>2019</th>\n",
              "      <td>6548116</td>\n",
              "    </tr>\n",
              "    <tr>\n",
              "      <th>...</th>\n",
              "      <th>...</th>\n",
              "      <th>...</th>\n",
              "      <td>...</td>\n",
              "    </tr>\n",
              "    <tr>\n",
              "      <th rowspan=\"5\" valign=\"top\">주거지구</th>\n",
              "      <th>전기</th>\n",
              "      <th>2020</th>\n",
              "      <td>723718</td>\n",
              "    </tr>\n",
              "    <tr>\n",
              "      <th rowspan=\"2\" valign=\"top\">주방용구</th>\n",
              "      <th>2019</th>\n",
              "      <td>2020587</td>\n",
              "    </tr>\n",
              "    <tr>\n",
              "      <th>2020</th>\n",
              "      <td>1738562</td>\n",
              "    </tr>\n",
              "    <tr>\n",
              "      <th rowspan=\"2\" valign=\"top\">직물</th>\n",
              "      <th>2019</th>\n",
              "      <td>1422768</td>\n",
              "    </tr>\n",
              "    <tr>\n",
              "      <th>2020</th>\n",
              "      <td>1607341</td>\n",
              "    </tr>\n",
              "  </tbody>\n",
              "</table>\n",
              "<p>92 rows × 1 columns</p>\n",
              "</div>"
            ],
            "text/plain": [
              "                 USE_AMT\n",
              "지구   업종   year          \n",
              "상업지구 가구   2019   3427970\n",
              "          2020   3019251\n",
              "     가전   2019  16767780\n",
              "          2020  10684510\n",
              "     광학제품 2019   6548116\n",
              "...                  ...\n",
              "주거지구 전기   2020    723718\n",
              "     주방용구 2019   2020587\n",
              "          2020   1738562\n",
              "     직물   2019   1422768\n",
              "          2020   1607341\n",
              "\n",
              "[92 rows x 1 columns]"
            ]
          },
          "metadata": {
            "tags": []
          },
          "execution_count": 109
        }
      ]
    },
    {
      "cell_type": "code",
      "metadata": {
        "id": "y3dElQY6WlIb",
        "colab_type": "code",
        "colab": {
          "base_uri": "https://localhost:8080/",
          "height": 87
        },
        "outputId": "495aa3e6-6585-4054-c333-9c9a424aa017"
      },
      "source": [
        "import seaborn as sns"
      ],
      "execution_count": null,
      "outputs": [
        {
          "output_type": "stream",
          "text": [
            "/usr/local/lib/python3.6/dist-packages/statsmodels/tools/_testing.py:19: FutureWarning:\n",
            "\n",
            "pandas.util.testing is deprecated. Use the functions in the public API at pandas.testing instead.\n",
            "\n"
          ],
          "name": "stderr"
        }
      ]
    },
    {
      "cell_type": "code",
      "metadata": {
        "id": "dF2pSIkUmquP",
        "colab_type": "code",
        "colab": {
          "base_uri": "https://localhost:8080/",
          "height": 678
        },
        "outputId": "b465917c-1f90-48a8-9ac9-d5d134d0b42d"
      },
      "source": [
        "plt.rc('font', family='NanumBarunGothic') \n",
        "plt.rcParams['figure.figsize'] = [20,10]\n",
        "g1 = sns.barplot(data = resident_year.loc['상업지구'].reset_index(),x='업종', y='USE_AMT',hue='year', ci=None)\n",
        "plt.title('상업지구 연도별 업종 사용금액\\n', {'fontsize' : 25, 'color':'black'})\n",
        "plt.plot"
      ],
      "execution_count": null,
      "outputs": [
        {
          "output_type": "execute_result",
          "data": {
            "text/plain": [
              "<function matplotlib.pyplot.plot>"
            ]
          },
          "metadata": {
            "tags": []
          },
          "execution_count": 110
        },
        {
          "output_type": "display_data",
          "data": {
            "image/png": "[encoded data removed]",
            "text/plain": [
              "<Figure size 1440x720 with 1 Axes>"
            ]
          },
          "metadata": {
            "tags": [],
            "needs_background": "light"
          }
        }
      ]
    },
    {
      "cell_type": "code",
      "metadata": {
        "id": "vFtFs9ZenDUd",
        "colab_type": "code",
        "colab": {
          "base_uri": "https://localhost:8080/",
          "height": 678
        },
        "outputId": "9597640a-c70b-4a7d-fea8-80ab2eb1da08"
      },
      "source": [
        "plt.rc('font', family='NanumBarunGothic') \n",
        "plt.rcParams['figure.figsize'] = [20,10]\n",
        "g1 = sns.barplot(data = resident_year.loc['주거지구'].reset_index(),x='업종', y='USE_AMT',hue='year', ci=None)\n",
        "plt.title('상업지구 연도별 업종 사용금액\\n', {'fontsize' : 25, 'color':'black'})\n",
        "plt.plot\n",
        "\n",
        "# 유흥업은 상업지구에서는 거의 변화하지 않음"
      ],
      "execution_count": null,
      "outputs": [
        {
          "output_type": "execute_result",
          "data": {
            "text/plain": [
              "<function matplotlib.pyplot.plot>"
            ]
          },
          "metadata": {
            "tags": []
          },
          "execution_count": 111
        },
        {
          "output_type": "display_data",
          "data": {
            "image/png": "[encoded data removed]",
            "text/plain": [
              "<Figure size 1440x720 with 1 Axes>"
            ]
          },
          "metadata": {
            "tags": [],
            "needs_background": "light"
          }
        }
      ]
    },
    {
      "cell_type": "code",
      "metadata": {
        "id": "PL4gueXiEAMR",
        "colab_type": "code",
        "colab": {
          "base_uri": "https://localhost:8080/",
          "height": 678
        },
        "outputId": "35b2def1-3e1b-4aa7-8f02-5f5b00a886e0"
      },
      "source": [
        "plt.rc('font', family='NanumBarunGothic') \n",
        "plt.rcParams['figure.figsize'] = [20,10]\n",
        "g1 = sns.barplot(data = resident_town.loc['2019'].reset_index(),x='업종', y='USE_CNT',hue='지구', ci=None)\n",
        "plt.title('상업지구 별 업종/이용건수 변화\\n', {'fontsize' : 25, 'color':'black'})\n",
        "plt.plot"
      ],
      "execution_count": null,
      "outputs": [
        {
          "output_type": "execute_result",
          "data": {
            "text/plain": [
              "<function matplotlib.pyplot.plot>"
            ]
          },
          "metadata": {
            "tags": []
          },
          "execution_count": 64
        },
        {
          "output_type": "display_data",
          "data": {
            "image/png": "[encoded data removed]",
            "text/plain": [
              "<Figure size 1440x720 with 1 Axes>"
            ]
          },
          "metadata": {
            "tags": [],
            "needs_background": "light"
          }
        }
      ]
    },
    {
      "cell_type": "code",
      "metadata": {
        "id": "I01RgjtbgLlD",
        "colab_type": "code",
        "colab": {
          "base_uri": "https://localhost:8080/",
          "height": 678
        },
        "outputId": "ced4ea4c-5c76-4fde-ebf5-15fdf1ea77c4"
      },
      "source": [
        "plt.rc('font', family='NanumBarunGothic') \n",
        "plt.rcParams['figure.figsize'] = [20,10]\n",
        "g1 = sns.barplot(data = resident_town.loc['2020'].reset_index(),x='업종', y='USE_CNT',hue='지구', ci=None)\n",
        "plt.title('상업지구 별 업종/이용건수 변화\\n', {'fontsize' : 25, 'color':'black'})\n",
        "plt.plot"
      ],
      "execution_count": null,
      "outputs": [
        {
          "output_type": "execute_result",
          "data": {
            "text/plain": [
              "<function matplotlib.pyplot.plot>"
            ]
          },
          "metadata": {
            "tags": []
          },
          "execution_count": 66
        },
        {
          "output_type": "display_data",
          "data": {
            "image/png": "[encoded data removed]",
            "text/plain": [
              "<Figure size 1440x720 with 1 Axes>"
            ]
          },
          "metadata": {
            "tags": [],
            "needs_background": "light"
          }
        }
      ]
    },
    {
      "cell_type": "code",
      "metadata": {
        "id": "oKJVsLaIhD98",
        "colab_type": "code",
        "colab": {
          "base_uri": "https://localhost:8080/",
          "height": 87
        },
        "outputId": "081b1916-98fb-45c9-8a08-2469d0fa61f4"
      },
      "source": [
        "resident.columns"
      ],
      "execution_count": null,
      "outputs": [
        {
          "output_type": "execute_result",
          "data": {
            "text/plain": [
              "Index(['STD_DD', 'GU_CD', 'DONG_CD', 'MCT_CAT_CD', 'SEX_CD', 'AGE_CD',\n",
              "       'USE_CNT', 'USE_AMT', 'year_month', 'month', 'year', 'city', '지구', '업종',\n",
              "       '요일'],\n",
              "      dtype='object')"
            ]
          },
          "metadata": {
            "tags": []
          },
          "execution_count": 67
        }
      ]
    },
    {
      "cell_type": "code",
      "metadata": {
        "id": "2l22dUMygPjH",
        "colab_type": "code",
        "colab": {}
      },
      "source": [
        "resident_yosik = resident[['업종','지구','year','USE_AMT','AGE_CD']].groupby(['업종','year','AGE_CD','지구']).sum()\n"
      ],
      "execution_count": null,
      "outputs": []
    },
    {
      "cell_type": "code",
      "metadata": {
        "id": "aKT2SQOBg-Zb",
        "colab_type": "code",
        "colab": {
          "base_uri": "https://localhost:8080/",
          "height": 678
        },
        "outputId": "d171f56b-b5f3-49d5-eeec-6f01d643d241"
      },
      "source": [
        "plt.rc('font', family='NanumBarunGothic') \n",
        "plt.rcParams['figure.figsize'] = [20,10]\n",
        "g1 = sns.barplot(data = resident_yosik.loc['요식업소'].reset_index(),x='지구', y='USE_AMT',hue='AGE_CD', ci=None)\n",
        "plt.title('나이별 요식업소 사용금액\\n', {'fontsize' : 25, 'color':'black'})\n",
        "plt.plot"
      ],
      "execution_count": null,
      "outputs": [
        {
          "output_type": "execute_result",
          "data": {
            "text/plain": [
              "<function matplotlib.pyplot.plot>"
            ]
          },
          "metadata": {
            "tags": []
          },
          "execution_count": 75
        },
        {
          "output_type": "display_data",
          "data": {
            "image/png": "[encoded data removed]",
            "text/plain": [
              "<Figure size 1440x720 with 1 Axes>"
            ]
          },
          "metadata": {
            "tags": [],
            "needs_background": "light"
          }
        }
      ]
    },
    {
      "cell_type": "code",
      "metadata": {
        "id": "wcAPR8M2ha3l",
        "colab_type": "code",
        "colab": {
          "base_uri": "https://localhost:8080/",
          "height": 950
        },
        "outputId": "fb775ca0-0bb6-4906-9dcf-6c0f25ed7271"
      },
      "source": [
        "plt.rc('font', family='NanumBarunGothic') \n",
        "plt.rcParams['figure.figsize'] = [20,15]\n",
        "g1 = sns.barplot(data = cc,x=cc.index, y='금액차이', ci=None)\n",
        "plt.title('업종별 사용금액 차이\\n', {'fontsize' : 25, 'color':'black'})\n",
        "plt.plot"
      ],
      "execution_count": null,
      "outputs": [
        {
          "output_type": "execute_result",
          "data": {
            "text/plain": [
              "<function matplotlib.pyplot.plot>"
            ]
          },
          "metadata": {
            "tags": []
          },
          "execution_count": 105
        },
        {
          "output_type": "display_data",
          "data": {
            "image/png": "[encoded data removed]",
            "text/plain": [
              "<Figure size 1440x1080 with 1 Axes>"
            ]
          },
          "metadata": {
            "tags": [],
            "needs_background": "light"
          }
        }
      ]
    },
    {
      "cell_type": "code",
      "metadata": {
        "id": "jSqr6YYZl5xD",
        "colab_type": "code",
        "colab": {
          "base_uri": "https://localhost:8080/",
          "height": 950
        },
        "outputId": "8332a889-0697-493e-a0f7-273cd30d9b63"
      },
      "source": [
        "plt.rc('font', family='NanumBarunGothic') \n",
        "plt.rcParams['figure.figsize'] = [20,15]\n",
        "g1 = sns.barplot(data = cc,x=cc.index, y='건수차이', ci=None)\n",
        "plt.title('업종별 사용건수 차이\\n', {'fontsize' : 25, 'color':'black'})\n",
        "plt.plot"
      ],
      "execution_count": null,
      "outputs": [
        {
          "output_type": "execute_result",
          "data": {
            "text/plain": [
              "<function matplotlib.pyplot.plot>"
            ]
          },
          "metadata": {
            "tags": []
          },
          "execution_count": 106
        },
        {
          "output_type": "display_data",
          "data": {
            "image/png": "[encoded data removed]",
            "text/plain": [
              "<Figure size 1440x1080 with 1 Axes>"
            ]
          },
          "metadata": {
            "tags": [],
            "needs_background": "light"
          }
        }
      ]
    },
    {
      "cell_type": "code",
      "metadata": {
        "id": "sYsJBRk4ivbh",
        "colab_type": "code",
        "colab": {
          "base_uri": "https://localhost:8080/",
          "height": 758
        },
        "outputId": "56a3e425-5287-427a-ffee-dfa58a82db93"
      },
      "source": [
        "cc"
      ],
      "execution_count": null,
      "outputs": [
        {
          "output_type": "execute_result",
          "data": {
            "text/html": [
              "<div>\n",
              "<style scoped>\n",
              "    .dataframe tbody tr th:only-of-type {\n",
              "        vertical-align: middle;\n",
              "    }\n",
              "\n",
              "    .dataframe tbody tr th {\n",
              "        vertical-align: top;\n",
              "    }\n",
              "\n",
              "    .dataframe thead th {\n",
              "        text-align: right;\n",
              "    }\n",
              "</style>\n",
              "<table border=\"1\" class=\"dataframe\">\n",
              "  <thead>\n",
              "    <tr style=\"text-align: right;\">\n",
              "      <th></th>\n",
              "      <th>AGE_CD</th>\n",
              "      <th>이용건수19</th>\n",
              "      <th>이용금액19</th>\n",
              "      <th>AGE_CD</th>\n",
              "      <th>이용건수20</th>\n",
              "      <th>이용금액20</th>\n",
              "      <th>금액차이</th>\n",
              "      <th>건수차이</th>\n",
              "    </tr>\n",
              "    <tr>\n",
              "      <th>업종</th>\n",
              "      <th></th>\n",
              "      <th></th>\n",
              "      <th></th>\n",
              "      <th></th>\n",
              "      <th></th>\n",
              "      <th></th>\n",
              "      <th></th>\n",
              "      <th></th>\n",
              "    </tr>\n",
              "  </thead>\n",
              "  <tbody>\n",
              "    <tr>\n",
              "      <th>가구</th>\n",
              "      <td>143165</td>\n",
              "      <td>18496</td>\n",
              "      <td>7470184</td>\n",
              "      <td>134370</td>\n",
              "      <td>16333</td>\n",
              "      <td>8679411</td>\n",
              "      <td>-1209227</td>\n",
              "      <td>2163</td>\n",
              "    </tr>\n",
              "    <tr>\n",
              "      <th>가전</th>\n",
              "      <td>679795</td>\n",
              "      <td>125404</td>\n",
              "      <td>33357303</td>\n",
              "      <td>539055</td>\n",
              "      <td>85047</td>\n",
              "      <td>24347172</td>\n",
              "      <td>9010131</td>\n",
              "      <td>40357</td>\n",
              "    </tr>\n",
              "    <tr>\n",
              "      <th>광학제품</th>\n",
              "      <td>543800</td>\n",
              "      <td>116398</td>\n",
              "      <td>8183860</td>\n",
              "      <td>396340</td>\n",
              "      <td>82366</td>\n",
              "      <td>5784333</td>\n",
              "      <td>2399527</td>\n",
              "      <td>34032</td>\n",
              "    </tr>\n",
              "    <tr>\n",
              "      <th>레저업소</th>\n",
              "      <td>3273065</td>\n",
              "      <td>2658105</td>\n",
              "      <td>56179519</td>\n",
              "      <td>2833680</td>\n",
              "      <td>2250509</td>\n",
              "      <td>40987455</td>\n",
              "      <td>15192064</td>\n",
              "      <td>407596</td>\n",
              "    </tr>\n",
              "    <tr>\n",
              "      <th>레저용품</th>\n",
              "      <td>1650390</td>\n",
              "      <td>1362051</td>\n",
              "      <td>102633333</td>\n",
              "      <td>1270185</td>\n",
              "      <td>1028462</td>\n",
              "      <td>80888934</td>\n",
              "      <td>21744399</td>\n",
              "      <td>333589</td>\n",
              "    </tr>\n",
              "    <tr>\n",
              "      <th>문화취미</th>\n",
              "      <td>2092975</td>\n",
              "      <td>945526</td>\n",
              "      <td>23425696</td>\n",
              "      <td>1860190</td>\n",
              "      <td>479961</td>\n",
              "      <td>14480321</td>\n",
              "      <td>8945375</td>\n",
              "      <td>465565</td>\n",
              "    </tr>\n",
              "    <tr>\n",
              "      <th>보건위생</th>\n",
              "      <td>4683335</td>\n",
              "      <td>2541178</td>\n",
              "      <td>112925672</td>\n",
              "      <td>4226025</td>\n",
              "      <td>1617409</td>\n",
              "      <td>82768637</td>\n",
              "      <td>30157035</td>\n",
              "      <td>923769</td>\n",
              "    </tr>\n",
              "    <tr>\n",
              "      <th>사무통신</th>\n",
              "      <td>614835</td>\n",
              "      <td>10446174</td>\n",
              "      <td>87365243</td>\n",
              "      <td>585245</td>\n",
              "      <td>6638067</td>\n",
              "      <td>61028395</td>\n",
              "      <td>26336848</td>\n",
              "      <td>3808107</td>\n",
              "    </tr>\n",
              "    <tr>\n",
              "      <th>서적문구</th>\n",
              "      <td>2615960</td>\n",
              "      <td>1560222</td>\n",
              "      <td>32779451</td>\n",
              "      <td>2349220</td>\n",
              "      <td>949993</td>\n",
              "      <td>23994170</td>\n",
              "      <td>8785281</td>\n",
              "      <td>610229</td>\n",
              "    </tr>\n",
              "    <tr>\n",
              "      <th>수리서비스</th>\n",
              "      <td>1519825</td>\n",
              "      <td>291829</td>\n",
              "      <td>8328622</td>\n",
              "      <td>1457765</td>\n",
              "      <td>265078</td>\n",
              "      <td>8298728</td>\n",
              "      <td>29894</td>\n",
              "      <td>26751</td>\n",
              "    </tr>\n",
              "    <tr>\n",
              "      <th>숙박</th>\n",
              "      <td>1297880</td>\n",
              "      <td>511736</td>\n",
              "      <td>63939157</td>\n",
              "      <td>1012855</td>\n",
              "      <td>344995</td>\n",
              "      <td>41160612</td>\n",
              "      <td>22778545</td>\n",
              "      <td>166741</td>\n",
              "    </tr>\n",
              "    <tr>\n",
              "      <th>신변잡화</th>\n",
              "      <td>1167655</td>\n",
              "      <td>625286</td>\n",
              "      <td>29834682</td>\n",
              "      <td>935425</td>\n",
              "      <td>360357</td>\n",
              "      <td>19864594</td>\n",
              "      <td>9970088</td>\n",
              "      <td>264929</td>\n",
              "    </tr>\n",
              "    <tr>\n",
              "      <th>연료판매</th>\n",
              "      <td>3267725</td>\n",
              "      <td>3273195</td>\n",
              "      <td>142093443</td>\n",
              "      <td>3051685</td>\n",
              "      <td>2465646</td>\n",
              "      <td>104781599</td>\n",
              "      <td>37311844</td>\n",
              "      <td>807549</td>\n",
              "    </tr>\n",
              "    <tr>\n",
              "      <th>요식업소</th>\n",
              "      <td>6929765</td>\n",
              "      <td>58855989</td>\n",
              "      <td>922666061</td>\n",
              "      <td>6915130</td>\n",
              "      <td>50013923</td>\n",
              "      <td>726877815</td>\n",
              "      <td>195788246</td>\n",
              "      <td>8842066</td>\n",
              "    </tr>\n",
              "    <tr>\n",
              "      <th>유통업</th>\n",
              "      <td>6905945</td>\n",
              "      <td>49530046</td>\n",
              "      <td>1139972810</td>\n",
              "      <td>6960660</td>\n",
              "      <td>41484129</td>\n",
              "      <td>981466606</td>\n",
              "      <td>158506204</td>\n",
              "      <td>8045917</td>\n",
              "    </tr>\n",
              "    <tr>\n",
              "      <th>음료식품</th>\n",
              "      <td>6205335</td>\n",
              "      <td>5546242</td>\n",
              "      <td>81856380</td>\n",
              "      <td>6293710</td>\n",
              "      <td>5253959</td>\n",
              "      <td>84504150</td>\n",
              "      <td>-2647770</td>\n",
              "      <td>292283</td>\n",
              "    </tr>\n",
              "    <tr>\n",
              "      <th>의료기관</th>\n",
              "      <td>5963490</td>\n",
              "      <td>9491925</td>\n",
              "      <td>577327073</td>\n",
              "      <td>6075110</td>\n",
              "      <td>9431279</td>\n",
              "      <td>522890221</td>\n",
              "      <td>54436852</td>\n",
              "      <td>60646</td>\n",
              "    </tr>\n",
              "    <tr>\n",
              "      <th>의복</th>\n",
              "      <td>2319695</td>\n",
              "      <td>1735999</td>\n",
              "      <td>107981622</td>\n",
              "      <td>1835615</td>\n",
              "      <td>900058</td>\n",
              "      <td>60570614</td>\n",
              "      <td>47411008</td>\n",
              "      <td>835941</td>\n",
              "    </tr>\n",
              "    <tr>\n",
              "      <th>자동차정비</th>\n",
              "      <td>2547925</td>\n",
              "      <td>1693699</td>\n",
              "      <td>39511443</td>\n",
              "      <td>2314935</td>\n",
              "      <td>1061292</td>\n",
              "      <td>33008461</td>\n",
              "      <td>6502982</td>\n",
              "      <td>632407</td>\n",
              "    </tr>\n",
              "    <tr>\n",
              "      <th>자동차판매</th>\n",
              "      <td>135260</td>\n",
              "      <td>19966</td>\n",
              "      <td>12323158</td>\n",
              "      <td>151225</td>\n",
              "      <td>21257</td>\n",
              "      <td>10638206</td>\n",
              "      <td>1684952</td>\n",
              "      <td>-1291</td>\n",
              "    </tr>\n",
              "    <tr>\n",
              "      <th>전기</th>\n",
              "      <td>44575</td>\n",
              "      <td>4728</td>\n",
              "      <td>1051101</td>\n",
              "      <td>52850</td>\n",
              "      <td>5452</td>\n",
              "      <td>1089998</td>\n",
              "      <td>-38897</td>\n",
              "      <td>-724</td>\n",
              "    </tr>\n",
              "    <tr>\n",
              "      <th>주방용구</th>\n",
              "      <td>380820</td>\n",
              "      <td>62396</td>\n",
              "      <td>9643093</td>\n",
              "      <td>365940</td>\n",
              "      <td>60626</td>\n",
              "      <td>8544994</td>\n",
              "      <td>1098099</td>\n",
              "      <td>1770</td>\n",
              "    </tr>\n",
              "    <tr>\n",
              "      <th>직물</th>\n",
              "      <td>345385</td>\n",
              "      <td>57289</td>\n",
              "      <td>8481213</td>\n",
              "      <td>308510</td>\n",
              "      <td>49473</td>\n",
              "      <td>7530504</td>\n",
              "      <td>950709</td>\n",
              "      <td>7816</td>\n",
              "    </tr>\n",
              "  </tbody>\n",
              "</table>\n",
              "</div>"
            ],
            "text/plain": [
              "        AGE_CD    이용건수19      이용금액19  ...     이용금액20       금액차이     건수차이\n",
              "업종                                    ...                               \n",
              "가구      143165     18496     7470184  ...    8679411   -1209227     2163\n",
              "가전      679795    125404    33357303  ...   24347172    9010131    40357\n",
              "광학제품    543800    116398     8183860  ...    5784333    2399527    34032\n",
              "레저업소   3273065   2658105    56179519  ...   40987455   15192064   407596\n",
              "레저용품   1650390   1362051   102633333  ...   80888934   21744399   333589\n",
              "문화취미   2092975    945526    23425696  ...   14480321    8945375   465565\n",
              "보건위생   4683335   2541178   112925672  ...   82768637   30157035   923769\n",
              "사무통신    614835  10446174    87365243  ...   61028395   26336848  3808107\n",
              "서적문구   2615960   1560222    32779451  ...   23994170    8785281   610229\n",
              "수리서비스  1519825    291829     8328622  ...    8298728      29894    26751\n",
              "숙박     1297880    511736    63939157  ...   41160612   22778545   166741\n",
              "신변잡화   1167655    625286    29834682  ...   19864594    9970088   264929\n",
              "연료판매   3267725   3273195   142093443  ...  104781599   37311844   807549\n",
              "요식업소   6929765  58855989   922666061  ...  726877815  195788246  8842066\n",
              "유통업    6905945  49530046  1139972810  ...  981466606  158506204  8045917\n",
              "음료식품   6205335   5546242    81856380  ...   84504150   -2647770   292283\n",
              "의료기관   5963490   9491925   577327073  ...  522890221   54436852    60646\n",
              "의복     2319695   1735999   107981622  ...   60570614   47411008   835941\n",
              "자동차정비  2547925   1693699    39511443  ...   33008461    6502982   632407\n",
              "자동차판매   135260     19966    12323158  ...   10638206    1684952    -1291\n",
              "전기       44575      4728     1051101  ...    1089998     -38897     -724\n",
              "주방용구    380820     62396     9643093  ...    8544994    1098099     1770\n",
              "직물      345385     57289     8481213  ...    7530504     950709     7816\n",
              "\n",
              "[23 rows x 8 columns]"
            ]
          },
          "metadata": {
            "tags": []
          },
          "execution_count": 101
        }
      ]
    },
    {
      "cell_type": "code",
      "metadata": {
        "id": "DgcsEav8ivrR",
        "colab_type": "code",
        "colab": {}
      },
      "source": [
        "aa = resident_2019.groupby(['업종']).sum()\n",
        "aa.rename(columns={'USE_CNT': '이용건수19', 'USE_AMT': '이용금액19'},inplace=True)\n",
        "bb = resident_2020.groupby(['업종']).sum()\n",
        "bb.rename(columns={'USE_CNT': '이용건수20', 'USE_AMT': '이용금액20'},inplace=True)\n",
        "cc = pd.concat([aa,bb],axis=1)\n",
        "cc['금액차이'] = cc['이용금액19']-cc['이용금액20']\n",
        "cc['건수차이'] = cc['이용건수19']-cc['이용건수20']"
      ],
      "execution_count": null,
      "outputs": []
    },
    {
      "cell_type": "code",
      "metadata": {
        "id": "iDqXWkVukoTG",
        "colab_type": "code",
        "colab": {}
      },
      "source": [
        ""
      ],
      "execution_count": null,
      "outputs": []
    }
  ]
}