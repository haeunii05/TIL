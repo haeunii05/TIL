{
  "nbformat": 4,
  "nbformat_minor": 0,
  "metadata": {
    "colab": {
      "name": "cnn_baseline(0.88).ipynb",
      "provenance": [],
      "collapsed_sections": [],
      "authorship_tag": "ABX9TyMg7/ancu+uf6OMwhAa+Ay8"
    },
    "kernelspec": {
      "name": "python3",
      "display_name": "Python 3"
    },
    "widgets": {
      "application/vnd.jupyter.widget-state+json": {
        "5b00074994414a1f8f7da2609f806c4b": {
          "model_module": "@jupyter-widgets/controls",
          "model_name": "HBoxModel",
          "state": {
            "_view_name": "HBoxView",
            "_dom_classes": [],
            "_model_name": "HBoxModel",
            "_view_module": "@jupyter-widgets/controls",
            "_model_module_version": "1.5.0",
            "_view_count": null,
            "_view_module_version": "1.5.0",
            "box_style": "",
            "layout": "IPY_MODEL_d1ffa130f64642e6ba0a13883fb7a136",
            "_model_module": "@jupyter-widgets/controls",
            "children": [
              "IPY_MODEL_2f6b3c936b9045dc8a4579a341aaf560",
              "IPY_MODEL_100ce8f8562f4525a05e7006c1c4051e"
            ]
          }
        },
        "d1ffa130f64642e6ba0a13883fb7a136": {
          "model_module": "@jupyter-widgets/base",
          "model_name": "LayoutModel",
          "state": {
            "_view_name": "LayoutView",
            "grid_template_rows": null,
            "right": null,
            "justify_content": null,
            "_view_module": "@jupyter-widgets/base",
            "overflow": null,
            "_model_module_version": "1.2.0",
            "_view_count": null,
            "flex_flow": null,
            "width": null,
            "min_width": null,
            "border": null,
            "align_items": null,
            "bottom": null,
            "_model_module": "@jupyter-widgets/base",
            "top": null,
            "grid_column": null,
            "overflow_y": null,
            "overflow_x": null,
            "grid_auto_flow": null,
            "grid_area": null,
            "grid_template_columns": null,
            "flex": null,
            "_model_name": "LayoutModel",
            "justify_items": null,
            "grid_row": null,
            "max_height": null,
            "align_content": null,
            "visibility": null,
            "align_self": null,
            "height": null,
            "min_height": null,
            "padding": null,
            "grid_auto_rows": null,
            "grid_gap": null,
            "max_width": null,
            "order": null,
            "_view_module_version": "1.2.0",
            "grid_template_areas": null,
            "object_position": null,
            "object_fit": null,
            "grid_auto_columns": null,
            "margin": null,
            "display": null,
            "left": null
          }
        },
        "2f6b3c936b9045dc8a4579a341aaf560": {
          "model_module": "@jupyter-widgets/controls",
          "model_name": "FloatProgressModel",
          "state": {
            "_view_name": "ProgressView",
            "style": "IPY_MODEL_ab4638d5f5f64b8e80dccbfecaea377e",
            "_dom_classes": [],
            "description": "100%",
            "_model_name": "FloatProgressModel",
            "bar_style": "success",
            "max": 2048,
            "_view_module": "@jupyter-widgets/controls",
            "_model_module_version": "1.5.0",
            "value": 2048,
            "_view_count": null,
            "_view_module_version": "1.5.0",
            "orientation": "horizontal",
            "min": 0,
            "description_tooltip": null,
            "_model_module": "@jupyter-widgets/controls",
            "layout": "IPY_MODEL_b437abb43ef54fdeb4fe4074ca0f022a"
          }
        },
        "100ce8f8562f4525a05e7006c1c4051e": {
          "model_module": "@jupyter-widgets/controls",
          "model_name": "HTMLModel",
          "state": {
            "_view_name": "HTMLView",
            "style": "IPY_MODEL_91ab1adf282c4462b277c00d622aad6b",
            "_dom_classes": [],
            "description": "",
            "_model_name": "HTMLModel",
            "placeholder": "​",
            "_view_module": "@jupyter-widgets/controls",
            "_model_module_version": "1.5.0",
            "value": " 2048/2048 [00:07&lt;00:00, 266.82it/s]",
            "_view_count": null,
            "_view_module_version": "1.5.0",
            "description_tooltip": null,
            "_model_module": "@jupyter-widgets/controls",
            "layout": "IPY_MODEL_87a12f8e387547b288e7a5af3c667d83"
          }
        },
        "ab4638d5f5f64b8e80dccbfecaea377e": {
          "model_module": "@jupyter-widgets/controls",
          "model_name": "ProgressStyleModel",
          "state": {
            "_view_name": "StyleView",
            "_model_name": "ProgressStyleModel",
            "description_width": "initial",
            "_view_module": "@jupyter-widgets/base",
            "_model_module_version": "1.5.0",
            "_view_count": null,
            "_view_module_version": "1.2.0",
            "bar_color": null,
            "_model_module": "@jupyter-widgets/controls"
          }
        },
        "b437abb43ef54fdeb4fe4074ca0f022a": {
          "model_module": "@jupyter-widgets/base",
          "model_name": "LayoutModel",
          "state": {
            "_view_name": "LayoutView",
            "grid_template_rows": null,
            "right": null,
            "justify_content": null,
            "_view_module": "@jupyter-widgets/base",
            "overflow": null,
            "_model_module_version": "1.2.0",
            "_view_count": null,
            "flex_flow": null,
            "width": null,
            "min_width": null,
            "border": null,
            "align_items": null,
            "bottom": null,
            "_model_module": "@jupyter-widgets/base",
            "top": null,
            "grid_column": null,
            "overflow_y": null,
            "overflow_x": null,
            "grid_auto_flow": null,
            "grid_area": null,
            "grid_template_columns": null,
            "flex": null,
            "_model_name": "LayoutModel",
            "justify_items": null,
            "grid_row": null,
            "max_height": null,
            "align_content": null,
            "visibility": null,
            "align_self": null,
            "height": null,
            "min_height": null,
            "padding": null,
            "grid_auto_rows": null,
            "grid_gap": null,
            "max_width": null,
            "order": null,
            "_view_module_version": "1.2.0",
            "grid_template_areas": null,
            "object_position": null,
            "object_fit": null,
            "grid_auto_columns": null,
            "margin": null,
            "display": null,
            "left": null
          }
        },
        "91ab1adf282c4462b277c00d622aad6b": {
          "model_module": "@jupyter-widgets/controls",
          "model_name": "DescriptionStyleModel",
          "state": {
            "_view_name": "StyleView",
            "_model_name": "DescriptionStyleModel",
            "description_width": "",
            "_view_module": "@jupyter-widgets/base",
            "_model_module_version": "1.5.0",
            "_view_count": null,
            "_view_module_version": "1.2.0",
            "_model_module": "@jupyter-widgets/controls"
          }
        },
        "87a12f8e387547b288e7a5af3c667d83": {
          "model_module": "@jupyter-widgets/base",
          "model_name": "LayoutModel",
          "state": {
            "_view_name": "LayoutView",
            "grid_template_rows": null,
            "right": null,
            "justify_content": null,
            "_view_module": "@jupyter-widgets/base",
            "overflow": null,
            "_model_module_version": "1.2.0",
            "_view_count": null,
            "flex_flow": null,
            "width": null,
            "min_width": null,
            "border": null,
            "align_items": null,
            "bottom": null,
            "_model_module": "@jupyter-widgets/base",
            "top": null,
            "grid_column": null,
            "overflow_y": null,
            "overflow_x": null,
            "grid_auto_flow": null,
            "grid_area": null,
            "grid_template_columns": null,
            "flex": null,
            "_model_name": "LayoutModel",
            "justify_items": null,
            "grid_row": null,
            "max_height": null,
            "align_content": null,
            "visibility": null,
            "align_self": null,
            "height": null,
            "min_height": null,
            "padding": null,
            "grid_auto_rows": null,
            "grid_gap": null,
            "max_width": null,
            "order": null,
            "_view_module_version": "1.2.0",
            "grid_template_areas": null,
            "object_position": null,
            "object_fit": null,
            "grid_auto_columns": null,
            "margin": null,
            "display": null,
            "left": null
          }
        },
        "ac97fa1971dd4468b0097855bacc800f": {
          "model_module": "@jupyter-widgets/controls",
          "model_name": "HBoxModel",
          "state": {
            "_view_name": "HBoxView",
            "_dom_classes": [],
            "_model_name": "HBoxModel",
            "_view_module": "@jupyter-widgets/controls",
            "_model_module_version": "1.5.0",
            "_view_count": null,
            "_view_module_version": "1.5.0",
            "box_style": "",
            "layout": "IPY_MODEL_704eb2ac2ce04632bd1e3f3e1192d8a6",
            "_model_module": "@jupyter-widgets/controls",
            "children": [
              "IPY_MODEL_eb67266b69af4c32b6f821d9a6aac69d",
              "IPY_MODEL_c7a93a084f054a26901c4905b86a8b9c"
            ]
          }
        },
        "704eb2ac2ce04632bd1e3f3e1192d8a6": {
          "model_module": "@jupyter-widgets/base",
          "model_name": "LayoutModel",
          "state": {
            "_view_name": "LayoutView",
            "grid_template_rows": null,
            "right": null,
            "justify_content": null,
            "_view_module": "@jupyter-widgets/base",
            "overflow": null,
            "_model_module_version": "1.2.0",
            "_view_count": null,
            "flex_flow": null,
            "width": null,
            "min_width": null,
            "border": null,
            "align_items": null,
            "bottom": null,
            "_model_module": "@jupyter-widgets/base",
            "top": null,
            "grid_column": null,
            "overflow_y": null,
            "overflow_x": null,
            "grid_auto_flow": null,
            "grid_area": null,
            "grid_template_columns": null,
            "flex": null,
            "_model_name": "LayoutModel",
            "justify_items": null,
            "grid_row": null,
            "max_height": null,
            "align_content": null,
            "visibility": null,
            "align_self": null,
            "height": null,
            "min_height": null,
            "padding": null,
            "grid_auto_rows": null,
            "grid_gap": null,
            "max_width": null,
            "order": null,
            "_view_module_version": "1.2.0",
            "grid_template_areas": null,
            "object_position": null,
            "object_fit": null,
            "grid_auto_columns": null,
            "margin": null,
            "display": null,
            "left": null
          }
        },
        "eb67266b69af4c32b6f821d9a6aac69d": {
          "model_module": "@jupyter-widgets/controls",
          "model_name": "FloatProgressModel",
          "state": {
            "_view_name": "ProgressView",
            "style": "IPY_MODEL_ae806bc489a1447cbdb56a6cfe2d7cae",
            "_dom_classes": [],
            "description": "100%",
            "_model_name": "FloatProgressModel",
            "bar_style": "success",
            "max": 20480,
            "_view_module": "@jupyter-widgets/controls",
            "_model_module_version": "1.5.0",
            "value": 20480,
            "_view_count": null,
            "_view_module_version": "1.5.0",
            "orientation": "horizontal",
            "min": 0,
            "description_tooltip": null,
            "_model_module": "@jupyter-widgets/controls",
            "layout": "IPY_MODEL_7eba23ef31014b099f344467d6731ab8"
          }
        },
        "c7a93a084f054a26901c4905b86a8b9c": {
          "model_module": "@jupyter-widgets/controls",
          "model_name": "HTMLModel",
          "state": {
            "_view_name": "HTMLView",
            "style": "IPY_MODEL_f752308832b240018ce0b8d7c6036fd8",
            "_dom_classes": [],
            "description": "",
            "_model_name": "HTMLModel",
            "placeholder": "​",
            "_view_module": "@jupyter-widgets/controls",
            "_model_module_version": "1.5.0",
            "value": " 20480/20480 [57:42&lt;00:00,  5.91it/s]",
            "_view_count": null,
            "_view_module_version": "1.5.0",
            "description_tooltip": null,
            "_model_module": "@jupyter-widgets/controls",
            "layout": "IPY_MODEL_12295e234bd845f9a2b98836b00950f8"
          }
        },
        "ae806bc489a1447cbdb56a6cfe2d7cae": {
          "model_module": "@jupyter-widgets/controls",
          "model_name": "ProgressStyleModel",
          "state": {
            "_view_name": "StyleView",
            "_model_name": "ProgressStyleModel",
            "description_width": "initial",
            "_view_module": "@jupyter-widgets/base",
            "_model_module_version": "1.5.0",
            "_view_count": null,
            "_view_module_version": "1.2.0",
            "bar_color": null,
            "_model_module": "@jupyter-widgets/controls"
          }
        },
        "7eba23ef31014b099f344467d6731ab8": {
          "model_module": "@jupyter-widgets/base",
          "model_name": "LayoutModel",
          "state": {
            "_view_name": "LayoutView",
            "grid_template_rows": null,
            "right": null,
            "justify_content": null,
            "_view_module": "@jupyter-widgets/base",
            "overflow": null,
            "_model_module_version": "1.2.0",
            "_view_count": null,
            "flex_flow": null,
            "width": null,
            "min_width": null,
            "border": null,
            "align_items": null,
            "bottom": null,
            "_model_module": "@jupyter-widgets/base",
            "top": null,
            "grid_column": null,
            "overflow_y": null,
            "overflow_x": null,
            "grid_auto_flow": null,
            "grid_area": null,
            "grid_template_columns": null,
            "flex": null,
            "_model_name": "LayoutModel",
            "justify_items": null,
            "grid_row": null,
            "max_height": null,
            "align_content": null,
            "visibility": null,
            "align_self": null,
            "height": null,
            "min_height": null,
            "padding": null,
            "grid_auto_rows": null,
            "grid_gap": null,
            "max_width": null,
            "order": null,
            "_view_module_version": "1.2.0",
            "grid_template_areas": null,
            "object_position": null,
            "object_fit": null,
            "grid_auto_columns": null,
            "margin": null,
            "display": null,
            "left": null
          }
        },
        "f752308832b240018ce0b8d7c6036fd8": {
          "model_module": "@jupyter-widgets/controls",
          "model_name": "DescriptionStyleModel",
          "state": {
            "_view_name": "StyleView",
            "_model_name": "DescriptionStyleModel",
            "description_width": "",
            "_view_module": "@jupyter-widgets/base",
            "_model_module_version": "1.5.0",
            "_view_count": null,
            "_view_module_version": "1.2.0",
            "_model_module": "@jupyter-widgets/controls"
          }
        },
        "12295e234bd845f9a2b98836b00950f8": {
          "model_module": "@jupyter-widgets/base",
          "model_name": "LayoutModel",
          "state": {
            "_view_name": "LayoutView",
            "grid_template_rows": null,
            "right": null,
            "justify_content": null,
            "_view_module": "@jupyter-widgets/base",
            "overflow": null,
            "_model_module_version": "1.2.0",
            "_view_count": null,
            "flex_flow": null,
            "width": null,
            "min_width": null,
            "border": null,
            "align_items": null,
            "bottom": null,
            "_model_module": "@jupyter-widgets/base",
            "top": null,
            "grid_column": null,
            "overflow_y": null,
            "overflow_x": null,
            "grid_auto_flow": null,
            "grid_area": null,
            "grid_template_columns": null,
            "flex": null,
            "_model_name": "LayoutModel",
            "justify_items": null,
            "grid_row": null,
            "max_height": null,
            "align_content": null,
            "visibility": null,
            "align_self": null,
            "height": null,
            "min_height": null,
            "padding": null,
            "grid_auto_rows": null,
            "grid_gap": null,
            "max_width": null,
            "order": null,
            "_view_module_version": "1.2.0",
            "grid_template_areas": null,
            "object_position": null,
            "object_fit": null,
            "grid_auto_columns": null,
            "margin": null,
            "display": null,
            "left": null
          }
        }
      }
    }
  },
  "cells": [
    {
      "cell_type": "code",
      "metadata": {
        "id": "o7myfNyUdwt0",
        "colab_type": "code",
        "colab": {}
      },
      "source": [
        "import pandas as pd\n",
        "import numpy as np\n",
        "import matplotlib.pyplot as plt\n",
        "import tensorflow as tf\n",
        "import warnings\n",
        "import datetime\n",
        "warnings.filterwarnings(\"ignore\")\n",
        "import cv2\n",
        "from tensorflow.keras.preprocessing.image import ImageDataGenerator\n",
        "from tensorflow.keras.layers import (\n",
        "    Conv2D, BatchNormalization, Dropout, MaxPool2D, Activation,\n",
        "    Flatten, Dense, Input, Concatenate, LeakyReLU, Add, AveragePooling2D\n",
        ")\n",
        "from sklearn.model_selection import train_test_split\n",
        "from keras.utils.np_utils import to_categorical\n",
        "# from efficientnet.keras import EfficientNetB0\n",
        "\n",
        "from tensorflow.keras.models import Sequential, Model\n",
        "from tensorflow.keras.optimizers import Nadam\n",
        "from tensorflow.keras.callbacks import LearningRateScheduler\n",
        "from tqdm.notebook import tqdm\n",
        "import pandas as pd"
      ],
      "execution_count": null,
      "outputs": []
    },
    {
      "cell_type": "code",
      "metadata": {
        "id": "IyBSP4GdeED5",
        "colab_type": "code",
        "colab": {
          "base_uri": "https://localhost:8080/",
          "height": 35
        },
        "outputId": "f3982a7b-7754-41e5-e8ef-a070e47e6b90"
      },
      "source": [
        "from google.colab import drive\n",
        "drive.mount(\"/content/gdrive\")"
      ],
      "execution_count": null,
      "outputs": [
        {
          "output_type": "stream",
          "text": [
            "Drive already mounted at /content/gdrive; to attempt to forcibly remount, call drive.mount(\"/content/gdrive\", force_remount=True).\n"
          ],
          "name": "stdout"
        }
      ]
    },
    {
      "cell_type": "code",
      "metadata": {
        "id": "i401Eukgeb1W",
        "colab_type": "code",
        "colab": {}
      },
      "source": [
        "test = pd.read_csv('/content/gdrive/My Drive/project/Mnist cnn dacon/data/test.csv')\n",
        "train = pd.read_csv('/content/gdrive/My Drive/project/Mnist cnn dacon/data/train.csv')"
      ],
      "execution_count": null,
      "outputs": []
    },
    {
      "cell_type": "code",
      "metadata": {
        "id": "38snH6bVDkDO",
        "colab_type": "code",
        "colab": {
          "base_uri": "https://localhost:8080/",
          "height": 169
        },
        "outputId": "8eebcc1f-8c24-4f48-b0c8-157d410e9435"
      },
      "source": [
        ""
      ],
      "execution_count": null,
      "outputs": [
        {
          "output_type": "error",
          "ename": "NameError",
          "evalue": "ignored",
          "traceback": [
            "\u001b[0;31m---------------------------------------------------------------------------\u001b[0m",
            "\u001b[0;31mNameError\u001b[0m                                 Traceback (most recent call last)",
            "\u001b[0;32m<ipython-input-1-3536571a9bc3>\u001b[0m in \u001b[0;36m<module>\u001b[0;34m()\u001b[0m\n\u001b[0;32m----> 1\u001b[0;31m \u001b[0mtrain\u001b[0m\u001b[0;34m\u001b[0m\u001b[0;34m\u001b[0m\u001b[0m\n\u001b[0m",
            "\u001b[0;31mNameError\u001b[0m: name 'train' is not defined"
          ]
        }
      ]
    },
    {
      "cell_type": "code",
      "metadata": {
        "id": "gImsEmLxg9Zq",
        "colab_type": "code",
        "colab": {
          "base_uri": "https://localhost:8080/",
          "height": 35
        },
        "outputId": "20d566e7-ff19-4e2c-d9f4-c00597e7ee3c"
      },
      "source": [
        "len(train),len(test)"
      ],
      "execution_count": null,
      "outputs": [
        {
          "output_type": "execute_result",
          "data": {
            "text/plain": [
              "(2048, 20480)"
            ]
          },
          "metadata": {
            "tags": []
          },
          "execution_count": 6
        }
      ]
    },
    {
      "cell_type": "code",
      "metadata": {
        "id": "hury9rQDVYSF",
        "colab_type": "code",
        "colab": {
          "base_uri": "https://localhost:8080/",
          "height": 67,
          "referenced_widgets": [
            "5b00074994414a1f8f7da2609f806c4b",
            "d1ffa130f64642e6ba0a13883fb7a136",
            "2f6b3c936b9045dc8a4579a341aaf560",
            "100ce8f8562f4525a05e7006c1c4051e",
            "ab4638d5f5f64b8e80dccbfecaea377e",
            "b437abb43ef54fdeb4fe4074ca0f022a",
            "91ab1adf282c4462b277c00d622aad6b",
            "87a12f8e387547b288e7a5af3c667d83"
          ]
        },
        "outputId": "a43a1928-07a6-49cc-953e-83d76ee7f4ad"
      },
      "source": [
        "from google.colab.patches import cv2_imshow\n",
        "import cv2\n",
        "from PIL import Image\n",
        "from numpy import asarray\n",
        "\n",
        "data_list = []\n",
        "for i in tqdm(range(len(train))):    #data는 엑셀 데이터(즉, 원본 데이터)\n",
        "  image = Image.open('/content/gdrive/My Drive/데이콘 공유/open_cv_이미지 파일/image_updated/image_{}.jpg'.format(i)) #위에 디렉토리에서 사진을 가져오기\n",
        "  data = asarray(image)\n",
        "  data_list.append(data)\n",
        "X_train = np.array(data_list)         #저는 train 데이터를 넣어서 X_train으로 이름 지었습니다.\n",
        "X_train = X_train.reshape(-1, 28, 28, 1)\n",
        "X_train = X_train/255\n",
        "# X_train"
      ],
      "execution_count": null,
      "outputs": [
        {
          "output_type": "display_data",
          "data": {
            "application/vnd.jupyter.widget-view+json": {
              "model_id": "5b00074994414a1f8f7da2609f806c4b",
              "version_minor": 0,
              "version_major": 2
            },
            "text/plain": [
              "HBox(children=(FloatProgress(value=0.0, max=2048.0), HTML(value='')))"
            ]
          },
          "metadata": {
            "tags": []
          }
        },
        {
          "output_type": "stream",
          "text": [
            "\n"
          ],
          "name": "stdout"
        }
      ]
    },
    {
      "cell_type": "code",
      "metadata": {
        "id": "4-uhbZdle-xC",
        "colab_type": "code",
        "colab": {
          "base_uri": "https://localhost:8080/",
          "height": 809
        },
        "outputId": "3cba02df-490f-4d0e-ec77-8cd0cc3a4fd3"
      },
      "source": [
        "idx_list = [2, 4, 513]\n",
        "for idx in idx_list:\n",
        "    img = train.loc[idx, '0':].values.reshape(28, 28).astype(int)\n",
        "    digit = train.loc[idx, 'digit']\n",
        "    letter = train.loc[idx, 'letter']\n",
        "\n",
        "    plt.title('Index: %i, Digit: %s, Letter: %s'%(idx, digit, letter))\n",
        "    plt.imshow(img)\n",
        "    plt.show()"
      ],
      "execution_count": null,
      "outputs": [
        {
          "output_type": "display_data",
          "data": {
            "image/png": "[encoded data removed]",
            "text/plain": [
              "<Figure size 432x288 with 1 Axes>"
            ]
          },
          "metadata": {
            "tags": [],
            "needs_background": "light"
          }
        },
        {
          "output_type": "display_data",
          "data": {
            "image/png": "[encoded data removed]",
            "text/plain": [
              "<Figure size 432x288 with 1 Axes>"
            ]
          },
          "metadata": {
            "tags": [],
            "needs_background": "light"
          }
        },
        {
          "output_type": "display_data",
          "data": {
            "image/png": "[encoded data removed]",
            "text/plain": [
              "<Figure size 432x288 with 1 Axes>"
            ]
          },
          "metadata": {
            "tags": [],
            "needs_background": "light"
          }
        }
      ]
    },
    {
      "cell_type": "markdown",
      "metadata": {
        "id": "9MI8aJgYfbE6",
        "colab_type": "text"
      },
      "source": [
        "Train model"
      ]
    },
    {
      "cell_type": "code",
      "metadata": {
        "id": "Gn1i-9YEkFHO",
        "colab_type": "code",
        "colab": {}
      },
      "source": [
        "y = train['digit']\n",
        "y_train = np.zeros((len(y), len(y.unique())))\n",
        "for i, digit in enumerate(y):\n",
        "    y_train[i, digit] = 1\n"
      ],
      "execution_count": null,
      "outputs": []
    },
    {
      "cell_type": "code",
      "metadata": {
        "id": "T6rIfGGDE-Ks",
        "colab_type": "code",
        "colab": {}
      },
      "source": [
        "# data 뻥튀기\n",
        "\n",
        "datagen = ImageDataGenerator(\n",
        "    rescale=1.0 / 255,\n",
        "    featurewise_center=False,  # set input mean to 0 over the dataset\n",
        "    samplewise_center=False,  # set each sample mean to 0\n",
        "    featurewise_std_normalization=False,  # divide inputs by std of the dataset\n",
        "    samplewise_std_normalization=False,  # divide each input by its std\n",
        "    zca_whitening=False,  # apply ZCA whitening\n",
        "    rotation_range=40,  # randomly rotate images in the range (degrees, 0 to 180)\n",
        "    zoom_range = 0.01, # Randomly zoom image \n",
        "    width_shift_range=0.2,  # randomly shift images horizontally (fraction of total width)\n",
        "    height_shift_range=0.2,  # randomly shift images vertically (fraction of total height)\n",
        "    horizontal_flip=True,  # randomly flip images\n",
        "    vertical_flip=False,\n",
        "    fill_mode=\"nearest\"\n",
        "        )"
      ],
      "execution_count": null,
      "outputs": []
    },
    {
      "cell_type": "code",
      "metadata": {
        "id": "R67Q4aSvGxVL",
        "colab_type": "code",
        "colab": {
          "base_uri": "https://localhost:8080/",
          "height": 586
        },
        "outputId": "a280d4e9-6743-4196-82bd-bba3f16e0758"
      },
      "source": [
        "# dropout_rate=0.5\n",
        "model = Sequential()\n",
        "model.add(Conv2D(256, kernel_size = 3, activation='relu', input_shape = (28, 28, 1)))\n",
        "model.add(Conv2D(256, kernel_size = 3, activation='relu'))\n",
        "model.add(Conv2D(256, kernel_size = 5, strides=2, padding='same', activation='relu'))\n",
        "model.add(Dropout(0.5))\n",
        "\n",
        "model.add(Conv2D(128, kernel_size = 3, activation='relu'))\n",
        "model.add(Conv2D(128, kernel_size = 3, activation='relu'))\n",
        "model.add(Conv2D(128, kernel_size = 5, strides=2, padding='same', activation='relu'))\n",
        "model.add(Dropout(0.5))\n",
        "\n",
        "\n",
        "\n",
        "model.add(Conv2D(128, kernel_size = 4, activation='relu'))\n",
        "model.add(Flatten())\n",
        "model.add(Dropout(0.5))\n",
        "model.add(Dense(10, activation='softmax'))\n",
        "\n",
        "# COMPILE WITH ADAM OPTIMIZER AND CROSS ENTROPY COST\n",
        "model.compile(optimizer=\"adam\", loss=\"categorical_crossentropy\", metrics=[\"accuracy\"])\n",
        "model.summary()"
      ],
      "execution_count": null,
      "outputs": [
        {
          "output_type": "stream",
          "text": [
            "Model: \"sequential\"\n",
            "_________________________________________________________________\n",
            "Layer (type)                 Output Shape              Param #   \n",
            "=================================================================\n",
            "conv2d (Conv2D)              (None, 26, 26, 256)       2560      \n",
            "_________________________________________________________________\n",
            "conv2d_1 (Conv2D)            (None, 24, 24, 256)       590080    \n",
            "_________________________________________________________________\n",
            "conv2d_2 (Conv2D)            (None, 12, 12, 256)       1638656   \n",
            "_________________________________________________________________\n",
            "dropout (Dropout)            (None, 12, 12, 256)       0         \n",
            "_________________________________________________________________\n",
            "conv2d_3 (Conv2D)            (None, 10, 10, 128)       295040    \n",
            "_________________________________________________________________\n",
            "conv2d_4 (Conv2D)            (None, 8, 8, 128)         147584    \n",
            "_________________________________________________________________\n",
            "conv2d_5 (Conv2D)            (None, 4, 4, 128)         409728    \n",
            "_________________________________________________________________\n",
            "dropout_1 (Dropout)          (None, 4, 4, 128)         0         \n",
            "_________________________________________________________________\n",
            "conv2d_6 (Conv2D)            (None, 1, 1, 128)         262272    \n",
            "_________________________________________________________________\n",
            "flatten (Flatten)            (None, 128)               0         \n",
            "_________________________________________________________________\n",
            "dropout_2 (Dropout)          (None, 128)               0         \n",
            "_________________________________________________________________\n",
            "dense (Dense)                (None, 10)                1290      \n",
            "=================================================================\n",
            "Total params: 3,347,210\n",
            "Trainable params: 3,347,210\n",
            "Non-trainable params: 0\n",
            "_________________________________________________________________\n"
          ],
          "name": "stdout"
        }
      ]
    },
    {
      "cell_type": "code",
      "metadata": {
        "id": "ecNHow0I0SlZ",
        "colab_type": "code",
        "colab": {}
      },
      "source": [
        ""
      ],
      "execution_count": null,
      "outputs": []
    },
    {
      "cell_type": "code",
      "metadata": {
        "id": "7lc_Dj791Fuc",
        "colab_type": "code",
        "colab": {}
      },
      "source": [
        ""
      ],
      "execution_count": null,
      "outputs": []
    },
    {
      "cell_type": "code",
      "metadata": {
        "id": "rwqeLDQ9TAQB",
        "colab_type": "code",
        "colab": {}
      },
      "source": [
        "# DECREASE LEARNING RATE EACH EPOCH\n",
        "annealer = LearningRateScheduler(lambda x: 1e-3 * 0.95 ** x)"
      ],
      "execution_count": null,
      "outputs": []
    },
    {
      "cell_type": "code",
      "metadata": {
        "id": "w8zpMSEoKiH0",
        "colab_type": "code",
        "colab": {
          "base_uri": "https://localhost:8080/",
          "height": 1000
        },
        "outputId": "512b817a-43fa-41b4-b22b-f52146e05b30"
      },
      "source": [
        "# 0.8578\n",
        "\n",
        "validation=0.2\n",
        "# epochs = 70\n",
        "model.fit(X_train, y_train, epochs=epochs, verbose=2, validation_split=validation)\n",
        "epochs = 40"
      ],
      "execution_count": null,
      "outputs": [
        {
          "output_type": "stream",
          "text": [
            "Epoch 1/40\n",
            "52/52 - 131s - loss: 2.3011 - accuracy: 0.1197 - val_loss: 2.2971 - val_accuracy: 0.1073\n",
            "Epoch 2/40\n",
            "52/52 - 130s - loss: 2.2689 - accuracy: 0.1514 - val_loss: 2.0389 - val_accuracy: 0.3171\n",
            "Epoch 3/40\n",
            "52/52 - 131s - loss: 1.7997 - accuracy: 0.3944 - val_loss: 1.2510 - val_accuracy: 0.5634\n",
            "Epoch 4/40\n",
            "52/52 - 136s - loss: 1.2500 - accuracy: 0.5702 - val_loss: 0.9038 - val_accuracy: 0.7146\n",
            "Epoch 5/40\n",
            "52/52 - 131s - loss: 1.0404 - accuracy: 0.6618 - val_loss: 0.7278 - val_accuracy: 0.7902\n",
            "Epoch 6/40\n",
            "52/52 - 131s - loss: 0.8441 - accuracy: 0.7241 - val_loss: 0.5940 - val_accuracy: 0.7927\n",
            "Epoch 7/40\n",
            "52/52 - 131s - loss: 0.7489 - accuracy: 0.7589 - val_loss: 0.4786 - val_accuracy: 0.8390\n",
            "Epoch 8/40\n",
            "52/52 - 136s - loss: 0.6793 - accuracy: 0.7741 - val_loss: 0.4115 - val_accuracy: 0.8585\n",
            "Epoch 9/40\n",
            "52/52 - 131s - loss: 0.5886 - accuracy: 0.7985 - val_loss: 0.4133 - val_accuracy: 0.8854\n",
            "Epoch 10/40\n",
            "52/52 - 132s - loss: 0.5137 - accuracy: 0.8437 - val_loss: 0.2884 - val_accuracy: 0.9024\n",
            "Epoch 11/40\n",
            "52/52 - 132s - loss: 0.4958 - accuracy: 0.8382 - val_loss: 0.3055 - val_accuracy: 0.9049\n",
            "Epoch 12/40\n",
            "52/52 - 131s - loss: 0.4641 - accuracy: 0.8510 - val_loss: 0.2887 - val_accuracy: 0.8902\n",
            "Epoch 13/40\n",
            "52/52 - 131s - loss: 0.3920 - accuracy: 0.8742 - val_loss: 0.2153 - val_accuracy: 0.9220\n",
            "Epoch 14/40\n",
            "52/52 - 131s - loss: 0.3541 - accuracy: 0.8791 - val_loss: 0.2088 - val_accuracy: 0.9415\n",
            "Epoch 15/40\n",
            "52/52 - 130s - loss: 0.3320 - accuracy: 0.8938 - val_loss: 0.1800 - val_accuracy: 0.9463\n",
            "Epoch 16/40\n",
            "52/52 - 131s - loss: 0.3297 - accuracy: 0.8864 - val_loss: 0.1790 - val_accuracy: 0.9439\n",
            "Epoch 17/40\n",
            "52/52 - 131s - loss: 0.2814 - accuracy: 0.8999 - val_loss: 0.1911 - val_accuracy: 0.9512\n",
            "Epoch 18/40\n",
            "52/52 - 131s - loss: 0.2856 - accuracy: 0.9096 - val_loss: 0.1384 - val_accuracy: 0.9585\n",
            "Epoch 19/40\n",
            "52/52 - 131s - loss: 0.2133 - accuracy: 0.9280 - val_loss: 0.1737 - val_accuracy: 0.9537\n",
            "Epoch 20/40\n",
            "52/52 - 131s - loss: 0.2358 - accuracy: 0.9219 - val_loss: 0.1595 - val_accuracy: 0.9488\n",
            "Epoch 21/40\n",
            "52/52 - 131s - loss: 0.2268 - accuracy: 0.9219 - val_loss: 0.1374 - val_accuracy: 0.9585\n",
            "Epoch 22/40\n",
            "52/52 - 132s - loss: 0.2082 - accuracy: 0.9280 - val_loss: 0.1453 - val_accuracy: 0.9585\n",
            "Epoch 23/40\n",
            "52/52 - 131s - loss: 0.2036 - accuracy: 0.9353 - val_loss: 0.1194 - val_accuracy: 0.9683\n",
            "Epoch 24/40\n",
            "52/52 - 131s - loss: 0.1962 - accuracy: 0.9267 - val_loss: 0.1352 - val_accuracy: 0.9634\n",
            "Epoch 25/40\n",
            "52/52 - 131s - loss: 0.1780 - accuracy: 0.9359 - val_loss: 0.1432 - val_accuracy: 0.9585\n",
            "Epoch 26/40\n",
            "52/52 - 131s - loss: 0.1639 - accuracy: 0.9432 - val_loss: 0.1325 - val_accuracy: 0.9707\n",
            "Epoch 27/40\n",
            "52/52 - 130s - loss: 0.1439 - accuracy: 0.9560 - val_loss: 0.1294 - val_accuracy: 0.9585\n",
            "Epoch 28/40\n",
            "52/52 - 130s - loss: 0.1418 - accuracy: 0.9505 - val_loss: 0.1236 - val_accuracy: 0.9634\n",
            "Epoch 29/40\n",
            "52/52 - 130s - loss: 0.1357 - accuracy: 0.9499 - val_loss: 0.1368 - val_accuracy: 0.9707\n",
            "Epoch 30/40\n",
            "52/52 - 130s - loss: 0.1669 - accuracy: 0.9493 - val_loss: 0.0897 - val_accuracy: 0.9780\n",
            "Epoch 31/40\n",
            "52/52 - 131s - loss: 0.1115 - accuracy: 0.9628 - val_loss: 0.0894 - val_accuracy: 0.9780\n",
            "Epoch 32/40\n",
            "52/52 - 131s - loss: 0.0951 - accuracy: 0.9640 - val_loss: 0.1235 - val_accuracy: 0.9610\n",
            "Epoch 33/40\n",
            "52/52 - 130s - loss: 0.1219 - accuracy: 0.9585 - val_loss: 0.1299 - val_accuracy: 0.9634\n",
            "Epoch 34/40\n",
            "52/52 - 134s - loss: 0.1325 - accuracy: 0.9591 - val_loss: 0.1262 - val_accuracy: 0.9683\n",
            "Epoch 35/40\n",
            "52/52 - 130s - loss: 0.1060 - accuracy: 0.9646 - val_loss: 0.0949 - val_accuracy: 0.9756\n",
            "Epoch 36/40\n",
            "52/52 - 132s - loss: 0.0837 - accuracy: 0.9725 - val_loss: 0.1172 - val_accuracy: 0.9707\n",
            "Epoch 37/40\n",
            "52/52 - 131s - loss: 0.0937 - accuracy: 0.9664 - val_loss: 0.0927 - val_accuracy: 0.9732\n",
            "Epoch 38/40\n",
            "52/52 - 137s - loss: 0.0735 - accuracy: 0.9756 - val_loss: 0.1099 - val_accuracy: 0.9683\n",
            "Epoch 39/40\n",
            "52/52 - 133s - loss: 0.0911 - accuracy: 0.9701 - val_loss: 0.1292 - val_accuracy: 0.9610\n",
            "Epoch 40/40\n",
            "52/52 - 134s - loss: 0.1234 - accuracy: 0.9609 - val_loss: 0.0833 - val_accuracy: 0.9683\n"
          ],
          "name": "stdout"
        }
      ]
    },
    {
      "cell_type": "code",
      "metadata": {
        "id": "1KHBdkFxHntC",
        "colab_type": "code",
        "colab": {
          "base_uri": "https://localhost:8080/",
          "height": 1000
        },
        "outputId": "63656bb4-02e4-448a-d8b0-c42b027b3a49"
      },
      "source": [
        "# 0.88\n",
        "epochs = 70\n",
        "BATCH_SIZE = 32\n",
        "\n",
        "# Train data 90% : test data 10%로 나눕니다.\n",
        "X_train2, X_val2, y_train2, y_val2 = train_test_split(\n",
        "    X_train, y_train, test_size = 0.2)\n",
        "\n",
        "history = model.fit_generator(\n",
        "    datagen.flow(X_train2, y_train2, batch_size=BATCH_SIZE),\n",
        "    epochs=epochs, \n",
        "    steps_per_epoch=X_train2.shape[0]//BATCH_SIZE,\n",
        "    validation_data=(X_val2, y_val2), \n",
        "    callbacks=[annealer], \n",
        "    verbose=1\n",
        ")\n"
      ],
      "execution_count": null,
      "outputs": [
        {
          "output_type": "stream",
          "text": [
            "Epoch 1/70\n",
            "51/51 [==============================] - 136s 3s/step - loss: 2.3319 - accuracy: 0.1015 - val_loss: 0.1718 - val_accuracy: 0.9561\n",
            "Epoch 2/70\n",
            "51/51 [==============================] - 134s 3s/step - loss: 2.3052 - accuracy: 0.1060 - val_loss: 0.1913 - val_accuracy: 0.9512\n",
            "Epoch 3/70\n",
            "51/51 [==============================] - 133s 3s/step - loss: 2.3028 - accuracy: 0.0978 - val_loss: 0.1981 - val_accuracy: 0.9512\n",
            "Epoch 4/70\n",
            "51/51 [==============================] - 132s 3s/step - loss: 2.3011 - accuracy: 0.1083 - val_loss: 0.1957 - val_accuracy: 0.9512\n",
            "Epoch 5/70\n",
            "51/51 [==============================] - 134s 3s/step - loss: 2.3000 - accuracy: 0.1083 - val_loss: 0.1956 - val_accuracy: 0.9512\n",
            "Epoch 6/70\n",
            "51/51 [==============================] - 137s 3s/step - loss: 2.3009 - accuracy: 0.1065 - val_loss: 0.1961 - val_accuracy: 0.9488\n",
            "Epoch 7/70\n",
            "51/51 [==============================] - 135s 3s/step - loss: 2.2999 - accuracy: 0.1146 - val_loss: 0.1953 - val_accuracy: 0.9488\n",
            "Epoch 8/70\n",
            "51/51 [==============================] - 134s 3s/step - loss: 2.2998 - accuracy: 0.1090 - val_loss: 0.1961 - val_accuracy: 0.9512\n",
            "Epoch 9/70\n",
            "51/51 [==============================] - 133s 3s/step - loss: 2.3011 - accuracy: 0.1171 - val_loss: 0.1967 - val_accuracy: 0.9488\n",
            "Epoch 10/70\n",
            "51/51 [==============================] - 138s 3s/step - loss: 2.2991 - accuracy: 0.1108 - val_loss: 0.1947 - val_accuracy: 0.9488\n",
            "Epoch 11/70\n",
            "51/51 [==============================] - 135s 3s/step - loss: 2.2995 - accuracy: 0.1108 - val_loss: 0.1954 - val_accuracy: 0.9488\n",
            "Epoch 12/70\n",
            "51/51 [==============================] - 136s 3s/step - loss: 2.3003 - accuracy: 0.1202 - val_loss: 0.1956 - val_accuracy: 0.9488\n",
            "Epoch 13/70\n",
            "51/51 [==============================] - 135s 3s/step - loss: 2.2994 - accuracy: 0.1077 - val_loss: 0.1962 - val_accuracy: 0.9488\n",
            "Epoch 14/70\n",
            "51/51 [==============================] - 139s 3s/step - loss: 2.3004 - accuracy: 0.1083 - val_loss: 0.1959 - val_accuracy: 0.9488\n",
            "Epoch 15/70\n",
            "51/51 [==============================] - 136s 3s/step - loss: 2.2999 - accuracy: 0.1133 - val_loss: 0.1968 - val_accuracy: 0.9488\n",
            "Epoch 16/70\n",
            "51/51 [==============================] - 138s 3s/step - loss: 2.2995 - accuracy: 0.1164 - val_loss: 0.1950 - val_accuracy: 0.9488\n",
            "Epoch 17/70\n",
            "51/51 [==============================] - 138s 3s/step - loss: 2.3008 - accuracy: 0.1071 - val_loss: 0.1954 - val_accuracy: 0.9488\n",
            "Epoch 18/70\n",
            "51/51 [==============================] - 136s 3s/step - loss: 2.2994 - accuracy: 0.1158 - val_loss: 0.1968 - val_accuracy: 0.9488\n",
            "Epoch 19/70\n",
            "51/51 [==============================] - 138s 3s/step - loss: 2.3001 - accuracy: 0.1196 - val_loss: 0.1968 - val_accuracy: 0.9488\n",
            "Epoch 20/70\n",
            "51/51 [==============================] - 134s 3s/step - loss: 2.3003 - accuracy: 0.1052 - val_loss: 0.1961 - val_accuracy: 0.9488\n",
            "Epoch 21/70\n",
            "51/51 [==============================] - 134s 3s/step - loss: 2.3013 - accuracy: 0.1108 - val_loss: 0.1975 - val_accuracy: 0.9488\n",
            "Epoch 22/70\n",
            "51/51 [==============================] - 133s 3s/step - loss: 2.2999 - accuracy: 0.1158 - val_loss: 0.1979 - val_accuracy: 0.9488\n",
            "Epoch 23/70\n",
            "51/51 [==============================] - 138s 3s/step - loss: 2.2990 - accuracy: 0.1127 - val_loss: 0.1981 - val_accuracy: 0.9488\n",
            "Epoch 24/70\n",
            "51/51 [==============================] - 134s 3s/step - loss: 2.3002 - accuracy: 0.1021 - val_loss: 0.1984 - val_accuracy: 0.9488\n",
            "Epoch 25/70\n",
            "51/51 [==============================] - 134s 3s/step - loss: 2.3001 - accuracy: 0.1021 - val_loss: 0.1988 - val_accuracy: 0.9488\n",
            "Epoch 26/70\n",
            "51/51 [==============================] - 134s 3s/step - loss: 2.3001 - accuracy: 0.1121 - val_loss: 0.1995 - val_accuracy: 0.9488\n",
            "Epoch 27/70\n",
            "51/51 [==============================] - 133s 3s/step - loss: 2.3008 - accuracy: 0.1052 - val_loss: 0.2000 - val_accuracy: 0.9488\n",
            "Epoch 28/70\n",
            "51/51 [==============================] - 137s 3s/step - loss: 2.3003 - accuracy: 0.1077 - val_loss: 0.2005 - val_accuracy: 0.9488\n",
            "Epoch 29/70\n",
            "51/51 [==============================] - 133s 3s/step - loss: 2.2990 - accuracy: 0.1059 - val_loss: 0.2001 - val_accuracy: 0.9488\n",
            "Epoch 30/70\n",
            "51/51 [==============================] - 133s 3s/step - loss: 2.2990 - accuracy: 0.1158 - val_loss: 0.1990 - val_accuracy: 0.9488\n",
            "Epoch 31/70\n",
            "51/51 [==============================] - 134s 3s/step - loss: 2.3003 - accuracy: 0.1077 - val_loss: 0.1990 - val_accuracy: 0.9488\n",
            "Epoch 32/70\n",
            "51/51 [==============================] - 138s 3s/step - loss: 2.2994 - accuracy: 0.1090 - val_loss: 0.1990 - val_accuracy: 0.9488\n",
            "Epoch 33/70\n",
            "51/51 [==============================] - 135s 3s/step - loss: 2.2991 - accuracy: 0.1171 - val_loss: 0.1993 - val_accuracy: 0.9488\n",
            "Epoch 34/70\n",
            "51/51 [==============================] - 135s 3s/step - loss: 2.3003 - accuracy: 0.1158 - val_loss: 0.1993 - val_accuracy: 0.9488\n",
            "Epoch 35/70\n",
            "51/51 [==============================] - 135s 3s/step - loss: 2.2999 - accuracy: 0.1133 - val_loss: 0.1995 - val_accuracy: 0.9488\n",
            "Epoch 36/70\n",
            "51/51 [==============================] - 138s 3s/step - loss: 2.3000 - accuracy: 0.1102 - val_loss: 0.1999 - val_accuracy: 0.9488\n",
            "Epoch 37/70\n",
            "51/51 [==============================] - 134s 3s/step - loss: 2.2988 - accuracy: 0.1183 - val_loss: 0.2000 - val_accuracy: 0.9488\n",
            "Epoch 38/70\n",
            "51/51 [==============================] - 135s 3s/step - loss: 2.3006 - accuracy: 0.1139 - val_loss: 0.2002 - val_accuracy: 0.9488\n",
            "Epoch 39/70\n",
            "51/51 [==============================] - 136s 3s/step - loss: 2.2991 - accuracy: 0.1146 - val_loss: 0.2001 - val_accuracy: 0.9488\n",
            "Epoch 40/70\n",
            "51/51 [==============================] - 136s 3s/step - loss: 2.3003 - accuracy: 0.1134 - val_loss: 0.2000 - val_accuracy: 0.9488\n",
            "Epoch 41/70\n",
            "51/51 [==============================] - 138s 3s/step - loss: 2.3004 - accuracy: 0.1139 - val_loss: 0.2000 - val_accuracy: 0.9488\n",
            "Epoch 42/70\n",
            "51/51 [==============================] - 135s 3s/step - loss: 2.2993 - accuracy: 0.1127 - val_loss: 0.1998 - val_accuracy: 0.9488\n",
            "Epoch 43/70\n",
            "51/51 [==============================] - 134s 3s/step - loss: 2.3000 - accuracy: 0.1152 - val_loss: 0.2006 - val_accuracy: 0.9488\n",
            "Epoch 44/70\n",
            "51/51 [==============================] - 134s 3s/step - loss: 2.2997 - accuracy: 0.1077 - val_loss: 0.2004 - val_accuracy: 0.9488\n",
            "Epoch 45/70\n",
            "51/51 [==============================] - 138s 3s/step - loss: 2.3007 - accuracy: 0.1108 - val_loss: 0.2006 - val_accuracy: 0.9488\n",
            "Epoch 46/70\n",
            "51/51 [==============================] - 135s 3s/step - loss: 2.2999 - accuracy: 0.1046 - val_loss: 0.2006 - val_accuracy: 0.9488\n",
            "Epoch 47/70\n",
            "51/51 [==============================] - 150s 3s/step - loss: 2.2993 - accuracy: 0.1059 - val_loss: 0.2006 - val_accuracy: 0.9488\n",
            "Epoch 48/70\n",
            "51/51 [==============================] - 150s 3s/step - loss: 2.3002 - accuracy: 0.1027 - val_loss: 0.2008 - val_accuracy: 0.9488\n",
            "Epoch 49/70\n",
            "51/51 [==============================] - 154s 3s/step - loss: 2.3000 - accuracy: 0.1108 - val_loss: 0.2006 - val_accuracy: 0.9488\n",
            "Epoch 50/70\n",
            "51/51 [==============================] - 150s 3s/step - loss: 2.2999 - accuracy: 0.1077 - val_loss: 0.2010 - val_accuracy: 0.9488\n",
            "Epoch 51/70\n",
            "51/51 [==============================] - 150s 3s/step - loss: 2.2996 - accuracy: 0.1152 - val_loss: 0.2007 - val_accuracy: 0.9488\n",
            "Epoch 52/70\n",
            "51/51 [==============================] - 150s 3s/step - loss: 2.2996 - accuracy: 0.1127 - val_loss: 0.2006 - val_accuracy: 0.9488\n",
            "Epoch 53/70\n",
            "51/51 [==============================] - 156s 3s/step - loss: 2.3001 - accuracy: 0.1133 - val_loss: 0.2004 - val_accuracy: 0.9488\n",
            "Epoch 54/70\n",
            "51/51 [==============================] - 151s 3s/step - loss: 2.3008 - accuracy: 0.1108 - val_loss: 0.2003 - val_accuracy: 0.9488\n",
            "Epoch 55/70\n",
            "51/51 [==============================] - 151s 3s/step - loss: 2.3002 - accuracy: 0.1127 - val_loss: 0.2006 - val_accuracy: 0.9488\n",
            "Epoch 56/70\n",
            "51/51 [==============================] - 151s 3s/step - loss: 2.3004 - accuracy: 0.1121 - val_loss: 0.2006 - val_accuracy: 0.9488\n",
            "Epoch 57/70\n",
            "51/51 [==============================] - 155s 3s/step - loss: 2.3000 - accuracy: 0.1096 - val_loss: 0.2008 - val_accuracy: 0.9488\n",
            "Epoch 58/70\n",
            "51/51 [==============================] - 152s 3s/step - loss: 2.2995 - accuracy: 0.1102 - val_loss: 0.2010 - val_accuracy: 0.9488\n",
            "Epoch 59/70\n",
            "51/51 [==============================] - 151s 3s/step - loss: 2.3003 - accuracy: 0.1108 - val_loss: 0.2012 - val_accuracy: 0.9488\n",
            "Epoch 60/70\n",
            "51/51 [==============================] - 154s 3s/step - loss: 2.2989 - accuracy: 0.1164 - val_loss: 0.2013 - val_accuracy: 0.9488\n",
            "Epoch 61/70\n",
            "51/51 [==============================] - 156s 3s/step - loss: 2.3004 - accuracy: 0.1115 - val_loss: 0.2015 - val_accuracy: 0.9488\n",
            "Epoch 62/70\n",
            "51/51 [==============================] - 155s 3s/step - loss: 2.2994 - accuracy: 0.1096 - val_loss: 0.2019 - val_accuracy: 0.9488\n",
            "Epoch 63/70\n",
            "51/51 [==============================] - 152s 3s/step - loss: 2.3000 - accuracy: 0.1115 - val_loss: 0.2021 - val_accuracy: 0.9488\n",
            "Epoch 64/70\n",
            "51/51 [==============================] - 166s 3s/step - loss: 2.3001 - accuracy: 0.1083 - val_loss: 0.2020 - val_accuracy: 0.9488\n",
            "Epoch 65/70\n",
            "51/51 [==============================] - 158s 3s/step - loss: 2.2998 - accuracy: 0.1164 - val_loss: 0.2017 - val_accuracy: 0.9488\n",
            "Epoch 66/70\n",
            "51/51 [==============================] - 152s 3s/step - loss: 2.2997 - accuracy: 0.1158 - val_loss: 0.2015 - val_accuracy: 0.9488\n",
            "Epoch 67/70\n",
            "51/51 [==============================] - 155s 3s/step - loss: 2.3000 - accuracy: 0.1127 - val_loss: 0.2016 - val_accuracy: 0.9488\n",
            "Epoch 68/70\n",
            "51/51 [==============================] - 153s 3s/step - loss: 2.3005 - accuracy: 0.1102 - val_loss: 0.2015 - val_accuracy: 0.9488\n",
            "Epoch 69/70\n",
            "51/51 [==============================] - 159s 3s/step - loss: 2.2986 - accuracy: 0.1171 - val_loss: 0.2017 - val_accuracy: 0.9488\n",
            "Epoch 70/70\n",
            "51/51 [==============================] - 153s 3s/step - loss: 2.2999 - accuracy: 0.1183 - val_loss: 0.2016 - val_accuracy: 0.9488\n"
          ],
          "name": "stdout"
        }
      ]
    },
    {
      "cell_type": "markdown",
      "metadata": {
        "id": "FiyX8Ln8Hz1O",
        "colab_type": "text"
      },
      "source": [
        "model save"
      ]
    },
    {
      "cell_type": "code",
      "metadata": {
        "id": "UOMP3iEQHy6m",
        "colab_type": "code",
        "colab": {}
      },
      "source": [
        "name = 'test0906_2'#이름\n",
        "submission.to_csv('/content/drive/My Drive/데이콘 팀플/{}.csv'.format(name), index=False)#경로\n",
        "model.save('/content/drive/My Drive/데이콘 팀플/{}.h5'.format(name))#경로"
      ],
      "execution_count": null,
      "outputs": []
    },
    {
      "cell_type": "markdown",
      "metadata": {
        "id": "Rw0WseX9H13i",
        "colab_type": "text"
      },
      "source": [
        "학습결과 시각화"
      ]
    },
    {
      "cell_type": "markdown",
      "metadata": {
        "id": "519OaK9qiV_k",
        "colab_type": "text"
      },
      "source": [
        "Predict"
      ]
    },
    {
      "cell_type": "code",
      "metadata": {
        "id": "9x0RB0pL2E7S",
        "colab_type": "code",
        "colab": {
          "base_uri": "https://localhost:8080/",
          "height": 67,
          "referenced_widgets": [
            "ac97fa1971dd4468b0097855bacc800f",
            "704eb2ac2ce04632bd1e3f3e1192d8a6",
            "eb67266b69af4c32b6f821d9a6aac69d",
            "c7a93a084f054a26901c4905b86a8b9c",
            "ae806bc489a1447cbdb56a6cfe2d7cae",
            "7eba23ef31014b099f344467d6731ab8",
            "f752308832b240018ce0b8d7c6036fd8",
            "12295e234bd845f9a2b98836b00950f8"
          ]
        },
        "outputId": "3b0d663f-2eb5-45c9-8cd7-35c0968e82e6"
      },
      "source": [
        "data_list2 = []\n",
        "for i in tqdm(range(len(test))):    #data는 엑셀 데이터(즉, 원본 데이터)\n",
        "  image = Image.open('/content/gdrive/My Drive/데이콘 공유/open_cv_이미지 파일/image_test_updated/image_{}.jpg'.format(i)) #위에 디렉토리에서 사진을 가져오기\n",
        "  data = asarray(image)\n",
        "  data_list2.append(data)\n",
        "x_test = np.array(data_list2)         #저는 train 데이터를 넣어서 X_train으로 이름 지었습니다.\n",
        "x_test = x_test.reshape(-1, 28, 28, 1)\n",
        "x_test = x_test/255\n",
        "# x_test"
      ],
      "execution_count": null,
      "outputs": [
        {
          "output_type": "display_data",
          "data": {
            "application/vnd.jupyter.widget-view+json": {
              "model_id": "ac97fa1971dd4468b0097855bacc800f",
              "version_minor": 0,
              "version_major": 2
            },
            "text/plain": [
              "HBox(children=(FloatProgress(value=0.0, max=20480.0), HTML(value='')))"
            ]
          },
          "metadata": {
            "tags": []
          }
        },
        {
          "output_type": "stream",
          "text": [
            "\n"
          ],
          "name": "stdout"
        }
      ]
    },
    {
      "cell_type": "code",
      "metadata": {
        "id": "tCxyQF_ejePx",
        "colab_type": "code",
        "colab": {
          "base_uri": "https://localhost:8080/",
          "height": 399
        },
        "outputId": "b8b48326-8bcf-4428-f124-13da16d6f135"
      },
      "source": [
        "submission = pd.read_csv('/content/gdrive/My Drive/project/Mnist cnn dacon/data/submission.csv')\n",
        "submission['digit'] = np.argmax(model.predict(x_test), axis=1)\n",
        "now = datetime.datetime.now().strftime('%Y-%m-%d %H_%M_%S')\n",
        "submission.to_csv('DACON_08_'+ now +'.csv', index=False)"
      ],
      "execution_count": null,
      "outputs": [
        {
          "output_type": "execute_result",
          "data": {
            "text/html": [
              "<div>\n",
              "<style scoped>\n",
              "    .dataframe tbody tr th:only-of-type {\n",
              "        vertical-align: middle;\n",
              "    }\n",
              "\n",
              "    .dataframe tbody tr th {\n",
              "        vertical-align: top;\n",
              "    }\n",
              "\n",
              "    .dataframe thead th {\n",
              "        text-align: right;\n",
              "    }\n",
              "</style>\n",
              "<table border=\"1\" class=\"dataframe\">\n",
              "  <thead>\n",
              "    <tr style=\"text-align: right;\">\n",
              "      <th></th>\n",
              "      <th>id</th>\n",
              "      <th>digit</th>\n",
              "    </tr>\n",
              "  </thead>\n",
              "  <tbody>\n",
              "    <tr>\n",
              "      <th>0</th>\n",
              "      <td>2049</td>\n",
              "      <td>6</td>\n",
              "    </tr>\n",
              "    <tr>\n",
              "      <th>1</th>\n",
              "      <td>2050</td>\n",
              "      <td>9</td>\n",
              "    </tr>\n",
              "    <tr>\n",
              "      <th>2</th>\n",
              "      <td>2051</td>\n",
              "      <td>6</td>\n",
              "    </tr>\n",
              "    <tr>\n",
              "      <th>3</th>\n",
              "      <td>2052</td>\n",
              "      <td>0</td>\n",
              "    </tr>\n",
              "    <tr>\n",
              "      <th>4</th>\n",
              "      <td>2053</td>\n",
              "      <td>3</td>\n",
              "    </tr>\n",
              "    <tr>\n",
              "      <th>...</th>\n",
              "      <td>...</td>\n",
              "      <td>...</td>\n",
              "    </tr>\n",
              "    <tr>\n",
              "      <th>20475</th>\n",
              "      <td>22524</td>\n",
              "      <td>4</td>\n",
              "    </tr>\n",
              "    <tr>\n",
              "      <th>20476</th>\n",
              "      <td>22525</td>\n",
              "      <td>1</td>\n",
              "    </tr>\n",
              "    <tr>\n",
              "      <th>20477</th>\n",
              "      <td>22526</td>\n",
              "      <td>6</td>\n",
              "    </tr>\n",
              "    <tr>\n",
              "      <th>20478</th>\n",
              "      <td>22527</td>\n",
              "      <td>8</td>\n",
              "    </tr>\n",
              "    <tr>\n",
              "      <th>20479</th>\n",
              "      <td>22528</td>\n",
              "      <td>0</td>\n",
              "    </tr>\n",
              "  </tbody>\n",
              "</table>\n",
              "<p>20480 rows × 2 columns</p>\n",
              "</div>"
            ],
            "text/plain": [
              "          id  digit\n",
              "0       2049      6\n",
              "1       2050      9\n",
              "2       2051      6\n",
              "3       2052      0\n",
              "4       2053      3\n",
              "...      ...    ...\n",
              "20475  22524      4\n",
              "20476  22525      1\n",
              "20477  22526      6\n",
              "20478  22527      8\n",
              "20479  22528      0\n",
              "\n",
              "[20480 rows x 2 columns]"
            ]
          },
          "metadata": {
            "tags": []
          },
          "execution_count": 18
        }
      ]
    }
  ]
}